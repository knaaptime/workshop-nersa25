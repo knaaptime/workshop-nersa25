{
  "cells": [
    {
      "cell_type": "markdown",
      "metadata": {},
      "source": [
        "# The Spatial `Graph` {#sec-graphs}\n",
        "\n",
        "In formal spatial models, we need a way of defining relationships between\n",
        "observations. In the spatial analysis and econometrics literature, the data\n",
        "structure used to relate observations to one another is canonically called a\n",
        "*spatial weights matrix*, or $W$, and is used to specify the hypothesized\n",
        "interaction structure that may exist between spatial units\n",
        "[@getis2009SpatialWeights]. These relationships between units form a\n",
        "special kind of network graph embedded in geographical space, and using the\n",
        "`libpysal.graph` module, we can explore these relationships in depth."
      ],
      "id": "9d69644d"
    },
    {
      "cell_type": "code",
      "metadata": {},
      "source": [
        "%load_ext watermark\n",
        "%watermark -v -a \"author: eli knaap\" -d -u -p libpysal"
      ],
      "id": "2c98b70e",
      "execution_count": null,
      "outputs": []
    },
    {
      "cell_type": "markdown",
      "metadata": {},
      "source": [
        "Note: the `Graph` class is only available in versions of libpysal >=4.9 (on\n",
        "versions prior to that, you need to use the `W` class, which works a little\n",
        "differently)."
      ],
      "id": "5196d3e6"
    },
    {
      "cell_type": "code",
      "metadata": {},
      "source": [
        "import contextily as ctx\n",
        "import matplotlib.pyplot as plt\n",
        "import pandas as pd\n",
        "import geopandas as gpd\n",
        "import networkx as nx\n",
        "import osmnx as ox\n",
        "import pandana as pdna\n",
        "\n",
        "from geosnap import DataStore\n",
        "from geosnap import io as gio\n",
        "from libpysal.graph import Graph\n",
        "\n",
        "datasets = DataStore()"
      ],
      "id": "e0e318cd",
      "execution_count": null,
      "outputs": []
    },
    {
      "cell_type": "markdown",
      "metadata": {},
      "source": [
        "The graph will use the geodataframe index to identify unique observations, so\n",
        "when we have something meaningful (like a FIPS code) that serves as an \"id\n",
        "variable\", then we should set that as the index."
      ],
      "id": "8ac5aa36"
    },
    {
      "cell_type": "code",
      "metadata": {},
      "source": [
        "dc = gio.get_acs(datasets, state_fips=\"11\", years=2021)\n",
        "dc = dc.to_crs(dc.estimate_utm_crs())\n",
        "dc = dc.set_index(\"geoid\")\n",
        "dc.plot()"
      ],
      "id": "fccc44d5",
      "execution_count": null,
      "outputs": []
    },
    {
      "cell_type": "markdown",
      "metadata": {},
      "source": [
        "The most common way of creating a spatial interaction graph is by \"building\" one\n",
        "from an existing geodataframe. The `libpysal.graph.Graph` class has a several\n",
        "methods available to generate these relationships, all of which use the\n",
        "`Graph.build_*` convention.\n",
        "\n",
        "## Contiguity Graphs\n",
        "\n",
        "A contiguity graph assumes observations have a relationship when they share an edge and/or vertex.\n",
        "\n",
        "### Rook"
      ],
      "id": "3f601cbd"
    },
    {
      "cell_type": "code",
      "metadata": {},
      "source": [
        "g_rook = Graph.build_contiguity(dc)\n",
        "g_rook.n"
      ],
      "id": "a57ed65d",
      "execution_count": null,
      "outputs": []
    },
    {
      "cell_type": "markdown",
      "metadata": {},
      "source": [
        "the number of observations in our graph should match the number of rows in the\n",
        "dataframe from which it was constructed."
      ],
      "id": "b956f3e7"
    },
    {
      "cell_type": "code",
      "metadata": {},
      "source": [
        "dc.shape[0]"
      ],
      "id": "5686d306",
      "execution_count": null,
      "outputs": []
    },
    {
      "cell_type": "markdown",
      "metadata": {},
      "source": [
        "One way to interact with the graph structure directly is to use the `adjacency`\n",
        "attribute which returns the neighbor relationships as a multi-indexed pandas\n",
        "series."
      ],
      "id": "8611b671"
    },
    {
      "cell_type": "code",
      "metadata": {},
      "source": [
        "g_rook.adjacency"
      ],
      "id": "9512a034",
      "execution_count": null,
      "outputs": []
    },
    {
      "cell_type": "code",
      "metadata": {},
      "source": [
        "g_rook.adjacency.reset_index()"
      ],
      "id": "a240dea3",
      "execution_count": null,
      "outputs": []
    },
    {
      "cell_type": "markdown",
      "metadata": {},
      "source": [
        "\"Slicing\" into a `Graph` object returns a pandas series where the index is the\n",
        "neighbor's id/key and the value is the \"spatial weight\" that encodes the\n",
        "strengrth of the connection between observations."
      ],
      "id": "a3c09cb7"
    },
    {
      "cell_type": "code",
      "metadata": {},
      "source": [
        "g_rook[\"110019800001\"]"
      ],
      "id": "3035a1ab",
      "execution_count": null,
      "outputs": []
    },
    {
      "cell_type": "markdown",
      "metadata": {},
      "source": [
        "Note this is shorthand for slicing into the adjacency list itself"
      ],
      "id": "aee43f9d"
    },
    {
      "cell_type": "code",
      "metadata": {},
      "source": [
        "g_rook.adjacency.loc[\"110019800001\"]"
      ],
      "id": "64f4e702",
      "execution_count": null,
      "outputs": []
    },
    {
      "cell_type": "markdown",
      "metadata": {},
      "source": [
        "If you prefer, the `neighbors` and `weights` values are also encoded as\n",
        "dictionaries on the Graph, available under the corresponding attributes."
      ],
      "id": "a566bc23"
    },
    {
      "cell_type": "code",
      "metadata": {},
      "source": [
        "g_rook.neighbors[\"110019800001\"]"
      ],
      "id": "fad9ce07",
      "execution_count": null,
      "outputs": []
    },
    {
      "cell_type": "code",
      "metadata": {},
      "source": [
        "g_rook.weights[\"110019800001\"]"
      ],
      "id": "c66e8680",
      "execution_count": null,
      "outputs": []
    },
    {
      "cell_type": "markdown",
      "metadata": {},
      "source": [
        "The `cardinalities` attribute stores the number of connections/relationships for\n",
        "each observation. In graph terminology, that would be the number of edges for\n",
        "each node, and in simple terms, this is the number of neighbors for each unit of\n",
        "analysis"
      ],
      "id": "5485209c"
    },
    {
      "cell_type": "code",
      "metadata": {},
      "source": [
        "g_rook.cardinalities"
      ],
      "id": "926b516b",
      "execution_count": null,
      "outputs": []
    },
    {
      "cell_type": "code",
      "metadata": {},
      "source": [
        "g_rook.cardinalities.describe()"
      ],
      "id": "17e9f68f",
      "execution_count": null,
      "outputs": []
    },
    {
      "cell_type": "markdown",
      "metadata": {},
      "source": [
        "We can get a sense for what the neighbor distribution looks like by plotting a histogram of the cardinalities"
      ],
      "id": "ad6031b9"
    },
    {
      "cell_type": "code",
      "metadata": {},
      "source": [
        "g_rook.cardinalities.hist()"
      ],
      "id": "71c58dcf",
      "execution_count": null,
      "outputs": []
    },
    {
      "cell_type": "markdown",
      "metadata": {},
      "source": [
        "The attribute `pct_nonzero` stores the share of entries in the $n \\times n$\n",
        "connectivity matrix that are non-zero. If every observation were connected to\n",
        "every other observation, this attribute would equal 1"
      ],
      "id": "9dfdc166"
    },
    {
      "cell_type": "code",
      "metadata": {},
      "source": [
        "g_rook.pct_nonzero"
      ],
      "id": "571aa1d1",
      "execution_count": null,
      "outputs": []
    },
    {
      "cell_type": "markdown",
      "metadata": {},
      "source": [
        "In this graph, less than 1% of the entries in that matrix are non-zero, showing\n",
        "that this is a very sparse connectivity graph indeed. Note, to compute the\n",
        "`pct_nonzero` measure ourselves, we vould alternatively rely on properties of\n",
        "the graph:"
      ],
      "id": "17b7414f"
    },
    {
      "cell_type": "code",
      "metadata": {},
      "source": [
        "(g_rook.n_edges / g_rook.n_nodes**2) * 100"
      ],
      "id": "839af383",
      "execution_count": null,
      "outputs": []
    },
    {
      "cell_type": "markdown",
      "metadata": {},
      "source": [
        "To see the full $n \\times n$ matrix representation of the graph, the sparse\n",
        "(scipy) representation is available under the `sparse` attribute"
      ],
      "id": "dfa72f35"
    },
    {
      "cell_type": "code",
      "metadata": {},
      "source": [
        "g_rook.sparse"
      ],
      "id": "f4f23efc",
      "execution_count": null,
      "outputs": []
    },
    {
      "cell_type": "code",
      "metadata": {},
      "source": [
        "g_rook.sparse.todense()"
      ],
      "id": "45b1e665",
      "execution_count": null,
      "outputs": []
    },
    {
      "cell_type": "markdown",
      "metadata": {},
      "source": [
        "To see the dense version, just convert from sparse to dense using scipy\n",
        "conventions. Both rows and columns of the matrix representation are ordered as\n",
        "found in the geodataframe from which the Graph was constructed (or in the order\n",
        "given, when using a `_from_*` method). Currently this order is stored under the\n",
        "`unique_ids` attribute."
      ],
      "id": "dfb2bd4f"
    },
    {
      "cell_type": "code",
      "metadata": {},
      "source": [
        "g_rook.unique_ids"
      ],
      "id": "93f11600",
      "execution_count": null,
      "outputs": []
    },
    {
      "cell_type": "code",
      "metadata": {},
      "source": [
        "g_rook.unique_ids.equals(dc.index)"
      ],
      "id": "363f1c7c",
      "execution_count": null,
      "outputs": []
    },
    {
      "cell_type": "markdown",
      "metadata": {},
      "source": [
        "Summing across rows of the matrix is another way to count neighbors for each observation"
      ],
      "id": "e6aeb370"
    },
    {
      "cell_type": "code",
      "metadata": {},
      "source": [
        "g_rook.sparse.todense().sum(axis=1)[:20].astype(int)"
      ],
      "id": "441b400f",
      "execution_count": null,
      "outputs": []
    },
    {
      "cell_type": "code",
      "metadata": {},
      "source": [
        "g_rook.cardinalities.values[:20]"
      ],
      "id": "42c3b381",
      "execution_count": null,
      "outputs": []
    },
    {
      "cell_type": "markdown",
      "metadata": {},
      "source": [
        "Classic spatial connectivity graphs are typically very sparse. That is, we\n",
        "generally do not consider every observation to have a relationship with every\n",
        "other observation. Rather, we tend to encode relationships such that\n",
        "observations are influenced *directly* by other observations that are nearby in\n",
        "physical space. But because nearby observations also interact with *their*\n",
        "neighbors, it is possible for an influence from one observation to influence\n",
        "another observation far away by traversing the graph.\n",
        "\n",
        "One useful way to understand how the Graph encodes spatial relationships is to\n",
        "use the `plot` method, which embeds the graph in planar space showing how\n",
        "observations are connected to one another. In the default plot, each observation\n",
        "(or its centroid, if the observations are polygons) is shown as a dot (or *node*\n",
        "in graph terminology), and a line (or *edge*) is drawn between nodes that are\n",
        "connected. Since we are using a rook contiguity rule, the edge, here, indicates\n",
        "that the observations share a common border."
      ],
      "id": "90da5c9b"
    },
    {
      "cell_type": "code",
      "metadata": {},
      "source": [
        "ax = g_rook.plot(dc, node_kws=dict(alpha=0.4), edge_kws=dict(alpha=0.4), figsize=(7, 8))\n",
        "ctx.add_basemap(ax, source=ctx.providers.CartoDB.Positron, crs=dc.crs)\n",
        "ax.axis(\"off\")"
      ],
      "id": "9b1e2cdd",
      "execution_count": null,
      "outputs": []
    },
    {
      "cell_type": "markdown",
      "metadata": {},
      "source": [
        "The `explore` method creates an interactive webmap version of the same plot, though the arguments are a bit different. "
      ],
      "id": "2bf3efe7"
    },
    {
      "cell_type": "code",
      "metadata": {},
      "source": [
        "m = dc.explore(tiles=\"CartoDB Positron\", tooltip=[\"geoid\"])\n",
        "g_rook.explore(\n",
        "    dc,\n",
        "    m=m,\n",
        ")"
      ],
      "id": "19a35348",
      "execution_count": null,
      "outputs": []
    },
    {
      "cell_type": "code",
      "metadata": {},
      "source": [
        "cap = gpd.tools.geocode(\"the national mall, washington d.c.\").to_crs(dc.crs)"
      ],
      "id": "ed9634cd",
      "execution_count": null,
      "outputs": []
    },
    {
      "cell_type": "code",
      "metadata": {},
      "source": [
        "cap"
      ],
      "id": "ce2eb31b",
      "execution_count": null,
      "outputs": []
    },
    {
      "cell_type": "markdown",
      "metadata": {},
      "source": [
        "The national gallery of art is not exactly the national mall, but it is close enough"
      ],
      "id": "0e8396a1"
    },
    {
      "cell_type": "code",
      "metadata": {},
      "source": [
        "cap.explore(tiles=\"CartoDB Positron\", marker_kwds=dict(radius=20), zoom_start=15)"
      ],
      "id": "b4f10b55",
      "execution_count": null,
      "outputs": []
    },
    {
      "cell_type": "code",
      "metadata": {},
      "source": [
        "mall = gpd.overlay(cap, dc.reset_index())"
      ],
      "id": "6c881f96",
      "execution_count": null,
      "outputs": []
    },
    {
      "cell_type": "markdown",
      "metadata": {},
      "source": [
        "Using an overlay operation from geopandas, we can collect the geoid we need to\n",
        "select from the Graph. For each observation in `cap`, the overlay will return\n",
        "the observations from `dc` that meet the spatial predicate (the default is\n",
        "intersect). (we reset the index here because we need to get the 'geoid' from the\n",
        "dataframe)"
      ],
      "id": "30c12631"
    },
    {
      "cell_type": "code",
      "metadata": {},
      "source": [
        "mall"
      ],
      "id": "5383ab87",
      "execution_count": null,
      "outputs": []
    },
    {
      "cell_type": "code",
      "metadata": {},
      "source": [
        "mall_id = mall.geoid.tolist()[0]"
      ],
      "id": "ec855aa6",
      "execution_count": null,
      "outputs": []
    },
    {
      "cell_type": "code",
      "metadata": {},
      "source": [
        "mall_id"
      ],
      "id": "e6933bdc",
      "execution_count": null,
      "outputs": []
    },
    {
      "cell_type": "markdown",
      "metadata": {},
      "source": [
        "Since the graph encodes the notion of a \"neighborhood\" for each unit, it can be\n",
        "a useful way of selecting (and visualizing) \"neighborhoods\" around a particular\n",
        "observation. For example here are all the blockgroups that neighbor the\n",
        "~~National Mall~~ national gallery of art (well, the blockgroup that contains\n",
        "the national gallery of art)"
      ],
      "id": "695763dc"
    },
    {
      "cell_type": "code",
      "metadata": {},
      "source": [
        "m = dc.loc[[mall_id]].explore(color=\"red\", tooltip=None, tiles=\"CartoDB Positron\")\n",
        "dc.loc[g_rook[mall_id].index].explore(m=m, tooltip=None)"
      ],
      "id": "d3610015",
      "execution_count": null,
      "outputs": []
    },
    {
      "cell_type": "markdown",
      "metadata": {},
      "source": [
        "Since blockgroups vary in size, and the national mall is in an oddly shaped\n",
        "blockgroup, its neighbor set includes blockgroups from Georgetown (Northwest),\n",
        "to Capitol Hill (Northeast), to Anacostia (Southeast)...\n",
        "\n",
        "When plotting the graph, it is also possible to select subsets and/or style\n",
        "nodes and edges differently. Here we can contrast the neighborhood structure for\n",
        "the blockgroup containing the national mall versus another blockgroup near rock\n",
        "creek park. Passing those two indices (in a list) to the `focal` argument will\n",
        "plot only the subgraph for those two nodes."
      ],
      "id": "19a28821"
    },
    {
      "cell_type": "code",
      "metadata": {},
      "source": [
        "m = dc.explore(tiles=\"CartoDB Positron\", tooltip=[\"geoid\"])\n",
        "g_rook.explore(\n",
        "    dc,\n",
        "    m=m,\n",
        "    focal=[\"110019800001\", \"110010020012\"],\n",
        "    edge_kws=dict(color=\"red\"),\n",
        "    node_kws=dict(style_kwds=dict(radius=4, color=\"yellow\")),\n",
        ")"
      ],
      "id": "86ab8a97",
      "execution_count": null,
      "outputs": []
    },
    {
      "cell_type": "markdown",
      "metadata": {},
      "source": [
        "Since the relationship graph is just a specific kind of network, we can also\n",
        "export directly to NetworkX, e.g. to leverage other graph theoretic measures.\n",
        "For example we could compute the degree of each node in the network and plot its\n",
        "distribution"
      ],
      "id": "729ff14c"
    },
    {
      "cell_type": "code",
      "metadata": {},
      "source": [
        "nxg = g_rook.to_networkx()"
      ],
      "id": "d2e4d2ea",
      "execution_count": null,
      "outputs": []
    },
    {
      "cell_type": "code",
      "metadata": {},
      "source": [
        "pd.Series([i[1] for i in nxg.degree()]).hist()"
      ],
      "id": "6731b7e7",
      "execution_count": null,
      "outputs": []
    },
    {
      "cell_type": "markdown",
      "metadata": {},
      "source": [
        "And here it is easy to see that the degree of each node is the number of\n",
        "neighbors (which is the same as the cardinalities attribute of the original\n",
        "libpysal graph)\n",
        "\n",
        "\n",
        "### Queen"
      ],
      "id": "044b85cd"
    },
    {
      "cell_type": "code",
      "metadata": {},
      "source": [
        "g_queen = Graph.build_contiguity(dc, rook=False)"
      ],
      "id": "27b0fac0",
      "execution_count": null,
      "outputs": []
    },
    {
      "cell_type": "markdown",
      "metadata": {},
      "source": [
        "Since the 'queen' rule is more liberal and allows connections through the\n",
        "vertices as well as the edges, we would expect that each observation would have\n",
        "more neighbors, shifting our cardinality histogram to the right, and densifying\n",
        "the graph."
      ],
      "id": "90b4af28"
    },
    {
      "cell_type": "code",
      "metadata": {},
      "source": [
        "g_queen.pct_nonzero"
      ],
      "id": "7675f878",
      "execution_count": null,
      "outputs": []
    },
    {
      "cell_type": "code",
      "metadata": {},
      "source": [
        "g_rook.pct_nonzero"
      ],
      "id": "5b4b3a4a",
      "execution_count": null,
      "outputs": []
    },
    {
      "cell_type": "code",
      "metadata": {},
      "source": [
        "g_queen.cardinalities.rename(\"queen\").plot(\n",
        "    kind=\"hist\", legend=True, alpha=0.6, bins=range(32)\n",
        ")\n",
        "g_rook.cardinalities.rename(\"rook\").plot(\n",
        "    kind=\"hist\", legend=True, alpha=0.6, bins=range(32)\n",
        ")"
      ],
      "id": "581889ed",
      "execution_count": null,
      "outputs": []
    },
    {
      "cell_type": "markdown",
      "metadata": {},
      "source": [
        "Or the kernel density continuous estimate"
      ],
      "id": "40dac2e2"
    },
    {
      "cell_type": "code",
      "metadata": {},
      "source": [
        "g_queen.cardinalities.rename(\"queen\").plot(kind=\"density\", legend=True)\n",
        "g_rook.cardinalities.rename(\"rook\").plot(kind=\"density\", legend=True)"
      ],
      "id": "0b4e8e34",
      "execution_count": null,
      "outputs": []
    },
    {
      "cell_type": "markdown",
      "metadata": {},
      "source": [
        "Ultimately, though, the structure of the graph has not changed that\n",
        "substantially. If we plot both figures and scrutinize them side-by-side, a\n",
        "handful of differences emerge, but not many."
      ],
      "id": "67ad0124"
    },
    {
      "cell_type": "code",
      "metadata": {},
      "source": [
        "f, ax = plt.subplots(1, 2, figsize=(12, 8))\n",
        "ax = ax.flatten()\n",
        "\n",
        "g_rook.plot(\n",
        "    dc, ax=ax[0], node_kws=dict(alpha=0.4, s=3), edge_kws=dict(alpha=0.4)\n",
        ").set_title(\"rook\", fontsize=20)\n",
        "\n",
        "g_queen.plot(\n",
        "    dc, ax=ax[1], node_kws=dict(alpha=0.4, s=3), edge_kws=dict(alpha=0.4)\n",
        ").set_title(\"queen\", fontsize=20)\n",
        "\n",
        "for ax in ax:\n",
        "    ax.axis(\"off\")\n",
        "    ctx.add_basemap(ax, source=ctx.providers.CartoDB.Positron, crs=dc.crs)\n",
        "plt.tight_layout()"
      ],
      "id": "34b52135",
      "execution_count": null,
      "outputs": []
    },
    {
      "cell_type": "markdown",
      "metadata": {},
      "source": [
        "The Queen graph subsumes the Rook graph, so if we plot the queen relationships\n",
        "beneath the rook relationships in a different color, then the colors still\n",
        "visible underneath show the difference between queen and rook graphs"
      ],
      "id": "188e1a8e"
    },
    {
      "cell_type": "code",
      "metadata": {},
      "source": [
        "ax = dc.plot(alpha=0.4, color=\"lightgrey\", figsize=(7, 8), edgecolor=\"black\")\n",
        "ax = g_queen.plot(dc, ax=ax, nodes=False, edge_kws=dict(color=\"blue\"), figsize=(7, 8))\n",
        "\n",
        "g_rook.plot(dc, ax=ax, nodes=False, edge_kws=dict(color=\"red\"))\n",
        "\n",
        "ax.axis(\"off\")\n",
        "ctx.add_basemap(ax, source=ctx.providers.CartoDB.Positron, crs=dc.crs)"
      ],
      "id": "3b73aafa",
      "execution_count": null,
      "outputs": []
    },
    {
      "cell_type": "markdown",
      "metadata": {},
      "source": [
        "Anything visible in blue is a connection through a vertex. But there is also a\n",
        "better way to do this...\n",
        "\n",
        "### Bishop Weights\n",
        "\n",
        "In theory, a \"Bishop\" weighting scheme is one that arises when only polygons\n",
        "that share vertexes are considered to be neighboring. But, since Queen\n",
        "contiguigy requires either an edge or a vertex and Rook contiguity requires only\n",
        "shared edges, the following relationship is true:\n",
        "\n",
        "$$ \\mathcal{Q} = \\mathcal{R} \\cup \\mathcal{B} $$\n",
        "\n",
        "where $\\mathcal{Q}$ is the set of neighbor pairs *via* queen contiguity,\n",
        "$\\mathcal{R}$ is the set of neighbor pairs *via* Rook contiguity, and\n",
        "$\\mathcal{B}$ *via* Bishop contiguity. Thus:\n",
        "\n",
        "$$ \\mathcal{Q} \\setminus \\mathcal{R} = \\mathcal{B}$$\n",
        "\n",
        "Bishop weights entail all Queen neighbor pairs that are not also Rook neighbors.\n",
        "\n",
        "PySAL does not have a dedicated bishop weights constructor, but you can\n",
        "construct very easily using the `difference` method. Other types of set\n",
        "operations between Graph objects are also available. This is the more important\n",
        "point than actually constructing Bishop weights (which encode an odd interaction\n",
        "structure in the social sciences and are essentially never used in practice).\n",
        "Combining `Graph` objects using set operations allows flexible composability."
      ],
      "id": "0c43017f"
    },
    {
      "cell_type": "code",
      "metadata": {},
      "source": [
        "bishop = g_queen.difference(g_rook)"
      ],
      "id": "a5c3ff61",
      "execution_count": null,
      "outputs": []
    },
    {
      "cell_type": "markdown",
      "metadata": {},
      "source": [
        "These are the connections that are shown in blue above"
      ],
      "id": "4848f0a3"
    },
    {
      "cell_type": "code",
      "metadata": {},
      "source": [
        "m = dc.explore(\n",
        "    tooltip=None,\n",
        "    style_kwds=dict(color=\"black\", fill=False),\n",
        "    tiles=\"CartoDB Positron\",\n",
        ")\n",
        "bishop.explore(\n",
        "    dc, m=m, nodes=True, edge_kws=dict(color=\"purple\", style_kwds=dict(weight=5))\n",
        ")"
      ],
      "id": "16472db9",
      "execution_count": null,
      "outputs": []
    },
    {
      "cell_type": "markdown",
      "metadata": {},
      "source": [
        "## Distance Graphs\n",
        "\n",
        "### Distance-Band\n",
        "\n",
        "When building a graph based on distance relationships, we need to make a simple\n",
        "assumption: since the distance between two polygons is undefined (is it the\n",
        "distance between the nearest point of each polygon? the furthest points? the\n",
        "average?), we use the polygon centroid as it's representation. The centroid is\n",
        "the geometric center of each polygon, so it serves as a reasonable approximation\n",
        "for the \"average\" distance of the poygon. Note that when building a distance\n",
        "band, the `threshold` argument is measured in units defined by the coordinate\n",
        "reference system (CRS) of the input dataframe. Here, we are using a UTM CRS,\n",
        "which means our units are measured in meters, so these graphs correspond to 1km\n",
        "and 2km thresholds."
      ],
      "id": "cf711ea7"
    },
    {
      "cell_type": "code",
      "metadata": {},
      "source": [
        "dc.crs"
      ],
      "id": "6389caac",
      "execution_count": null,
      "outputs": []
    },
    {
      "cell_type": "code",
      "metadata": {},
      "source": [
        "#| label: fig-increasing-dist-graph\n",
        "#| fig-cap: '`Graph` with Increasing Distance Band'\n",
        "\n",
        "g_dist_500 = Graph.build_distance_band(dc.centroid, threshold=500)\n",
        "g_dist_1000 = Graph.build_distance_band(dc.centroid, threshold=1000)\n",
        "g_dist_2000 = Graph.build_distance_band(dc.centroid, threshold=2000)\n",
        "g_dist_3000 = Graph.build_distance_band(dc.centroid, threshold=3000)\n",
        "\n",
        "f, ax = plt.subplots(2, 2, figsize=(8, 10))\n",
        "gs = [g_dist_500, g_dist_1000, g_dist_2000, g_dist_3000]\n",
        "labels = [\"500 m\", \"1 km\", \"2 km\", \"3 km\"]\n",
        "ax = ax.flatten()\n",
        "\n",
        "for i in range(len(ax)):\n",
        "    gs[i].plot(\n",
        "        dc, ax=ax[i], node_kws=dict(alpha=0.4, s=2), edge_kws=dict(alpha=0.4)\n",
        "    ).set_title(labels[i], fontsize=14)\n",
        "\n",
        "    ax[i].axis(\"off\")\n",
        "    ctx.add_basemap(ax[i], source=ctx.providers.CartoDB.Positron, crs=dc.crs)\n",
        "plt.tight_layout()"
      ],
      "id": "fig-increasing-dist-graph",
      "execution_count": null,
      "outputs": []
    },
    {
      "cell_type": "markdown",
      "metadata": {},
      "source": [
        "Naturally, distance-based relationships are sensitive to the density of\n",
        "observations in space. Since the distance threshold is fixed, denser locations\n",
        "will necessarily have more neighbors, whereas sparse locations may have few or\n",
        "no neighbors (e.g. the three observations in southeast DC in the 1km graph).\n",
        "This can be a useful property of distance-band graphs, because it keeps the\n",
        "notion of 'neighborhood' fixed across observations, and in many cases it makes\n",
        "sense for density to increase the neighbor set."
      ],
      "id": "f9ce0947"
    },
    {
      "cell_type": "code",
      "metadata": {},
      "source": [
        "bins = range(0, 120)\n",
        "g_dist_500.cardinalities.rename(\"500m\").hist(alpha=0.6, legend=True, bins=bins)\n",
        "g_dist_1000.cardinalities.rename(\"1km\").hist(alpha=0.5, legend=True, bins=bins)\n",
        "g_dist_2000.cardinalities.rename(\"2km\").hist(alpha=0.4, legend=True, bins=bins)"
      ],
      "id": "6dad8dce",
      "execution_count": null,
      "outputs": []
    },
    {
      "cell_type": "markdown",
      "metadata": {},
      "source": [
        "As the distance band increases, the neighbor distribution becomes more\n",
        "dispersed. In graphs with the smallest bandwidths, there are places in the study\n",
        "region with observations that fail to capture any neighbors (within the 500m and\n",
        "1km thresholds), which creates disconnections in the graph. The different\n",
        "connected regions of the graph are called components, and it can be useful to\n",
        "know about them for a few reasons.\n",
        "\n",
        "First, if there is more than one component, it implies that the interaction\n",
        "structure in the study region is segmented. Disconnected components in the graph\n",
        "make it impossible, by definition, for a shock (innovation, message, etc) to\n",
        "traverse the graph from a node in one component to a node in another component.\n",
        "This situation has implications for certain applications such as spatial\n",
        "econometric modeling because certain conditions (like higher-order neighbors)\n",
        "may not exist.\n",
        "\n",
        "If a study region contains multiple disconnected components, this information\n",
        "can also be used to partition or inspect the dataset. For example, if the region\n",
        "has multiple portions (e.g. Los Angeles and the Channel Islands, or the Hawaiian\n",
        "Islands, or Japan), then the component labels can be used to select groups of\n",
        "observations that belong to each component"
      ],
      "id": "7251a8f6"
    },
    {
      "cell_type": "code",
      "metadata": {},
      "source": [
        "g_dist_1000.n_components"
      ],
      "id": "a80a39e8",
      "execution_count": null,
      "outputs": []
    },
    {
      "cell_type": "markdown",
      "metadata": {},
      "source": [
        "The 1km distance-band graph has 5 components (look back at the map): a large\n",
        "central component, and four lonely observations in the Southern portion along\n",
        "the waterfront, all of which have no neighbors. When an observation has no\n",
        "neighbors, it's called an `isolate`."
      ],
      "id": "c1b00b12"
    },
    {
      "cell_type": "code",
      "metadata": {},
      "source": [
        "g_dist_1000.isolates"
      ],
      "id": "9102f722",
      "execution_count": null,
      "outputs": []
    },
    {
      "cell_type": "code",
      "metadata": {},
      "source": [
        "g_dist_1000.component_labels"
      ],
      "id": "56cf8657",
      "execution_count": null,
      "outputs": []
    },
    {
      "cell_type": "markdown",
      "metadata": {},
      "source": [
        "Since the distance-band is fixed but the density of observations varies across\n",
        "the study area, distance-band weights can result in high variance in the\n",
        "neighbor cardinalities, as described above (e.g. some observations have many\n",
        "neighbors, others have few or none). This can be a nuisance in some\n",
        "applications, but a useful feature in others. Moving back to a graph-theoretic\n",
        "framework, we can look at how certain nodes (census blockgroups) influence\n",
        "others by virtue of their position in the network. That is, some blockgroups are\n",
        "more central or more connected than others, and thus can exert a more\n",
        "influential role in the network as a whole."
      ],
      "id": "309320b7"
    },
    {
      "cell_type": "code",
      "metadata": {},
      "source": [
        "nxg_dist = g_dist_1000.to_networkx()"
      ],
      "id": "54b38a46",
      "execution_count": null,
      "outputs": []
    },
    {
      "cell_type": "code",
      "metadata": {},
      "source": [
        "pd.Series(nx.degree_centrality(nxg_dist)).hist()"
      ],
      "id": "8909b1e8",
      "execution_count": null,
      "outputs": []
    },
    {
      "cell_type": "markdown",
      "metadata": {},
      "source": [
        "Three graph-theoretic measures of centrality, which capture the concept of\n",
        "connectedness are\n",
        "[closness](https://networkx.org/documentation/stable/reference/algorithms/generated/networkx.algorithms.centrality.closeness_centrality.html#networkx.algorithms.centrality.closeness_centrality)\n",
        "centralty,\n",
        "[betweenness](https://networkx.org/documentation/stable/reference/algorithms/generated/networkx.algorithms.centrality.betweenness_centrality.html#networkx.algorithms.centrality.betweenness_centrality)\n",
        "centrality, and\n",
        "[degree](https://networkx.org/documentation/stable/reference/algorithms/generated/networkx.algorithms.centrality.degree_centrality.html#networkx.algorithms.centrality.degree_centrality)\n",
        "centrality, all of which (and more) can be computed for each node. By converting\n",
        "the graph to a NetworkX object, we can compute these three measures, then plot\n",
        "the most central node in the network of DC blockgroups according to each\n",
        "concept."
      ],
      "id": "66104a0c"
    },
    {
      "cell_type": "code",
      "metadata": {},
      "source": [
        "# closeness centrality\n",
        "close = (\n",
        "    pd.Series(nx.closeness_centrality(nxg_dist)).sort_values(ascending=False).index[0]\n",
        ")\n",
        "# betweenness centrality\n",
        "between = (\n",
        "    pd.Series(nx.betweenness_centrality(nxg_dist)).sort_values(ascending=False).index[0]\n",
        ")\n",
        "# degree centrality\n",
        "degree = pd.Series(nx.degree_centrality(nxg_dist)).sort_values(ascending=False).index[0]\n",
        "\n",
        "# plot the most \"central\" node according to each metric\n",
        "focal_kws = dict(marker_kwds=dict(radius=10), style_kwds=dict(fillOpacity=1))\n",
        "centralities = zip([\"red\", \"yellow\", \"blue\"], [close, between, degree])\n",
        "\n",
        "m = g_dist_1000.explore(\n",
        "    dc,\n",
        "    color=\"gray\",\n",
        "    tiles=\"CartoDB Darkmatter\",\n",
        "    edge_kws=dict(style_kwds=dict(opacity=0.4)),\n",
        ")\n",
        "\n",
        "for color, measure in centralities:\n",
        "    m = g_dist_1000.explore(\n",
        "        dc,\n",
        "        focal=measure,\n",
        "        color=color,\n",
        "        focal_kws=focal_kws,\n",
        "        m=m,\n",
        "    )\n",
        "m"
      ],
      "id": "bbe8782c",
      "execution_count": null,
      "outputs": []
    },
    {
      "cell_type": "markdown",
      "metadata": {},
      "source": [
        "The map helps clarify the different concepts of centrality. The nodes with the\n",
        "highest closeness and degree centrality are in the densest parts of the graph\n",
        "near downtown DC. The blue subgraph shows the node with the highest degree\n",
        "centrality (i.e. the node with the greatest number of connections within a 1km\n",
        "radius), which is argubaly the node with the greatest *local connectivity* and\n",
        "the red subgraph shows the node with the highest closeness centrality, which is\n",
        "the node with the greatest *global* connectivity. The yellow subgraph shows the\n",
        "node with the highest betweenness centrality. Unlike the others, the yellow\n",
        "graph does not have many connections (neighbors) of its own, but instead, it\n",
        "connects three very dense subgraphs and thus serves as a pivotal bridge between\n",
        "these pieces of space. In this case, the blockgroup is literally a polygon that\n",
        "contains several bridges across the Anacostia river, which helps demonstrate the\n",
        "importance of considering infrastructure and the built environment when\n",
        "traversing space--and how much power you wield if, say, you\n",
        "[control a bridge](https://en.wikipedia.org/wiki/Fort_Lee_lane_closure_scandal)\n",
        "for political gain\n",
        "\n",
        "### K-Nearest Neighbors (KNN)\n",
        "\n",
        "Unlike the distance-band concept of a neighborhood, which defines neighbors\n",
        "according to a proximity criterion, regardless of how many neighbors meet that\n",
        "definition, the K-nearest neighbors (KNN) concept defines the *neighbor set*\n",
        "according to a minimum criterion, regardless of the distance necessary to travel\n",
        "to meet it. This is more akin to a *relative* concept of neighborhood, in that\n",
        "both dense and sparse places will have exactly the same number of neighbors, but\n",
        "the distance necessary to travel to interact with each neighbor can adapt to\n",
        "local conditions.\n",
        "\n",
        "This concept has a different set of benefits relative to the distance-band\n",
        "approach, for example, there is no longer any variation in the neighbor\n",
        "cardinalities (which can be useful, and can ensure a much more connected graph\n",
        "in cases with observations of varying density. But the KNN relationships can\n",
        "also induce asymmetry, which may be a problem in certain spatial econometric\n",
        "applications."
      ],
      "id": "ddac583b"
    },
    {
      "cell_type": "code",
      "metadata": {},
      "source": [
        "g_knn5 = Graph.build_knn(dc.centroid, k=5)\n",
        "g_knn10 = Graph.build_knn(dc.centroid, k=10)"
      ],
      "id": "c59ab0cf",
      "execution_count": null,
      "outputs": []
    },
    {
      "cell_type": "code",
      "metadata": {},
      "source": [
        "f, ax = plt.subplots(1, 2, figsize=(12, 8))\n",
        "ax = ax.flatten()\n",
        "\n",
        "g_knn5.plot(\n",
        "    dc, ax=ax[0], node_kws=dict(alpha=0.4, s=3), edge_kws=dict(alpha=0.4)\n",
        ").set_title(\"k=5\", fontsize=18)\n",
        "\n",
        "g_knn10.plot(\n",
        "    dc, ax=ax[1], node_kws=dict(alpha=0.4, s=3), edge_kws=dict(alpha=0.4)\n",
        ").set_title(\"k=10\", fontsize=18)\n",
        "\n",
        "for ax in ax:\n",
        "    ax.axis(\"off\")\n",
        "    ctx.add_basemap(ax, source=ctx.providers.CartoDB.Positron, crs=dc.crs)\n",
        "plt.tight_layout()"
      ],
      "id": "5ca403b0",
      "execution_count": null,
      "outputs": []
    },
    {
      "cell_type": "markdown",
      "metadata": {},
      "source": [
        "Unlike distance relationships and contiguity relationships nearest-neighbor\n",
        "relationships are often asymmetric. That is, the closest observation to *me* may\n",
        "have several other neighbors closer than I am (i.e., in this scenario, I am not\n",
        "my neighbor's neighbor)"
      ],
      "id": "71b275a8"
    },
    {
      "cell_type": "code",
      "metadata": {},
      "source": [
        "g_dist_1000.asymmetry()"
      ],
      "id": "4a63fd5d",
      "execution_count": null,
      "outputs": []
    },
    {
      "cell_type": "code",
      "metadata": {},
      "source": [
        "g_queen.asymmetry()"
      ],
      "id": "df6b2af1",
      "execution_count": null,
      "outputs": []
    },
    {
      "cell_type": "code",
      "metadata": {},
      "source": [
        "g_knn10.asymmetry().head(10)"
      ],
      "id": "6e560791",
      "execution_count": null,
      "outputs": []
    },
    {
      "cell_type": "code",
      "metadata": {},
      "source": [
        "g_knn10.asymmetry().groupby(\"focal\").first().shape[0]"
      ],
      "id": "3be93752",
      "execution_count": null,
      "outputs": []
    },
    {
      "cell_type": "code",
      "metadata": {},
      "source": [
        "g_knn10.pct_nonzero"
      ],
      "id": "fc0c4e5b",
      "execution_count": null,
      "outputs": []
    },
    {
      "cell_type": "markdown",
      "metadata": {},
      "source": [
        "In the DC blockgroup data, the vast majority of observations in a KNN-10 graph\n",
        "contain an asymmetric relationship (that's 98% of the data). Note, this does not\n",
        "mean that 98% of *all relationships* are asymmetric, only that 98% of the\n",
        "observations have at least one neighbor which does not consider the reciprocal\n",
        "observation a neighbor."
      ],
      "id": "8d31dbf9"
    },
    {
      "cell_type": "code",
      "metadata": {},
      "source": [
        "g_knn10.asymmetry().groupby(\"focal\").first().shape[0] / g_knn10.n"
      ],
      "id": "b673b002",
      "execution_count": null,
      "outputs": []
    },
    {
      "cell_type": "code",
      "metadata": {},
      "source": [
        "symmetric = g_knn10.unique_ids[\n",
        "    ~g_knn10.unique_ids.isin(g_knn10.asymmetry().index.values)\n",
        "]"
      ],
      "id": "9461ef5e",
      "execution_count": null,
      "outputs": []
    },
    {
      "cell_type": "code",
      "metadata": {},
      "source": [
        "symmetric"
      ],
      "id": "0516621d",
      "execution_count": null,
      "outputs": []
    },
    {
      "cell_type": "code",
      "metadata": {},
      "source": [
        "ax = g_knn10.plot(\n",
        "    dc,\n",
        "    node_kws=dict(alpha=0.4),\n",
        "    edge_kws=dict(alpha=0.4),\n",
        "    focal=symmetric,\n",
        "    focal_kws=dict(color=\"blue\"),\n",
        "    figsize=(5, 5),\n",
        ")\n",
        "ax.set_title(\"k=10 symmetric communties\")\n",
        "ctx.add_basemap(ax=ax, source=ctx.providers.CartoDB.Positron, crs=dc.crs)\n",
        "ax.axis(\"off\")"
      ],
      "id": "d9fbf297",
      "execution_count": null,
      "outputs": []
    },
    {
      "cell_type": "markdown",
      "metadata": {},
      "source": [
        "All of the focal nodes plotted here are also neighbors with each of their neighbors (that sounds strange...)"
      ],
      "id": "f2d24455"
    },
    {
      "cell_type": "code",
      "metadata": {},
      "source": [
        "g_knn10.cardinalities.hist()"
      ],
      "id": "568207ad",
      "execution_count": null,
      "outputs": []
    },
    {
      "cell_type": "markdown",
      "metadata": {},
      "source": [
        "### Kernel Functions\n",
        "\n",
        "In the general cases of the contiguity, distance-band, and KNN graphs,\n",
        "considered so far the relationships between observations are treated as binary:\n",
        "a relationship either exists or does not, and is encoded as a 1 if it exists,\n",
        "and as a 0 otherwise. But they can also all be extended to allow for the\n",
        "relationship to be weighted continuously by some additional measure. For\n",
        "example, a contiguity graph can be weighted by the lengh of the border shared\n",
        "between observations, which would allow observations to have a \"stronger\"\n",
        "relationship when they have larger sections of common borders.\n",
        "\n",
        "In the KNN or distance-band cases, it can alternatively make sense to weight the\n",
        "observations according to distance from the focal observation (hence the\n",
        "longstanding terminology for the spatial graph as a *spatial weights matrix*).\n",
        "Applying a weighting function (often called a distance decay function) in this\n",
        "way helps encode the first law of geography, allowing nearer observations to\n",
        "have a greater influence than further observations. A distance-base weight with\n",
        "a decay function often takes the form of a\n",
        "[kernel](https://en.wikipedia.org/wiki/Kernel_(statistics) weight, where the\n",
        "kernel refers to the shape of the decay function (the commonly-used\n",
        "distance-band weight is actually a just uniform kernel, but sometimes it makes\n",
        "sense to allow variation within the band)."
      ],
      "id": "5b78ddf2"
    },
    {
      "cell_type": "code",
      "metadata": {},
      "source": [
        "g_kernel_linear = Graph.build_kernel(dc.centroid, kernel=\"triangular\", bandwidth=1000)\n",
        "g_kernel_gaussian = Graph.build_kernel(dc.centroid, kernel=\"gaussian\", bandwidth=1000)"
      ],
      "id": "79b55555",
      "execution_count": null,
      "outputs": []
    },
    {
      "cell_type": "markdown",
      "metadata": {},
      "source": [
        "As with the distance-band graph, the kernel graph is only defined for point\n",
        "geometries, so we use the centroid of each polygon as our representation of each\n",
        "unit, and the bandwidth is measured in units of the CRS (so defined as 1km\n",
        "here). Providing different arguments to the `kernel` parameter changes the\n",
        "weighting function applied at each distance."
      ],
      "id": "15eeaca2"
    },
    {
      "cell_type": "code",
      "metadata": {},
      "source": [
        "g_kernel_linear.adjacency.head(5)"
      ],
      "id": "67c5b66d",
      "execution_count": null,
      "outputs": []
    },
    {
      "cell_type": "code",
      "metadata": {},
      "source": [
        "g_kernel_gaussian.adjacency.head(5)"
      ],
      "id": "e6330c47",
      "execution_count": null,
      "outputs": []
    },
    {
      "cell_type": "markdown",
      "metadata": {},
      "source": [
        "The explore method can actually plot the value of the weight for each edge in\n",
        "the graph, although the visualization can be a bit tough to take in. It is\n",
        "easier to visualize one node at a time. Here, the shorter lines will be encoded\n",
        "with lighter colors and longer lines (representing longer distances) are darker\n",
        "as they get assigned lower weights. Note you can re-run the cell below to\n",
        "visualize a different node (or change the `focal` argument to a particular node\n",
        "instead of a random selection)"
      ],
      "id": "e2e03474"
    },
    {
      "cell_type": "code",
      "metadata": {},
      "source": [
        "g_kernel_linear.explore(\n",
        "    dc,\n",
        "    # pick a random node in the graph to visualize\n",
        "    focal=dc.reset_index().geoid.sample(),\n",
        "    edge_kws=dict(\n",
        "        column=\"weight\",\n",
        "        style_kwds=dict(weight=5),\n",
        "    ),\n",
        "    tiles=\"CartoDB Darkmatter\",\n",
        ")"
      ],
      "id": "d61a50c5",
      "execution_count": null,
      "outputs": []
    },
    {
      "cell_type": "markdown",
      "metadata": {},
      "source": [
        "## Transformations\n",
        "\n",
        "In many empirical applications of the `Graph`, it is useful to normalize or\n",
        "standardize the weight structure for each unit (i.e. to rescale the weight value\n",
        "for each unit such that the sum equals 1). In the spatial econometrics\n",
        "literature, this operation is canonically called a *transform* of the spatial\n",
        "weights matrix. The `Graph` inherits this terminology; thus, it is extremely\n",
        "common to transform the Graph prior to using it."
      ],
      "id": "eb0f0997"
    },
    {
      "cell_type": "code",
      "metadata": {},
      "source": [
        "g_rook.adjacency.head(10)"
      ],
      "id": "48952684",
      "execution_count": null,
      "outputs": []
    },
    {
      "cell_type": "markdown",
      "metadata": {},
      "source": [
        "The Graph's `transform` method allows each observation to be standardized using different techniques"
      ],
      "id": "f1fa3452"
    },
    {
      "cell_type": "code",
      "metadata": {},
      "source": [
        "?g_rook.transform"
      ],
      "id": "464d9442",
      "execution_count": null,
      "outputs": []
    },
    {
      "cell_type": "code",
      "metadata": {},
      "source": [
        "g_rook.transform(\"r\").adjacency.head(10)"
      ],
      "id": "a97a699b",
      "execution_count": null,
      "outputs": []
    },
    {
      "cell_type": "markdown",
      "metadata": {},
      "source": [
        "Now the weight values for first observation (`110010001011`) are rescaled to 0.2\n",
        "for each neighbor (since `110010001011` has 5 neighbors). Note that unlike its\n",
        "the predecessor (the `libpysal.weights.Weights` class), the `Graph` is\n",
        "*immutable*, which means to store the transformation permanently, it is\n",
        "necessary to save it back into a variable!\n",
        "\n",
        "Non-constant weights can also be transformed"
      ],
      "id": "70a8012b"
    },
    {
      "cell_type": "code",
      "metadata": {},
      "source": [
        "g_kernel_linear.adjacency"
      ],
      "id": "e00031aa",
      "execution_count": null,
      "outputs": []
    },
    {
      "cell_type": "code",
      "metadata": {},
      "source": [
        "g_kernel_linear.transform(\"r\").adjacency"
      ],
      "id": "a244d6d8",
      "execution_count": null,
      "outputs": []
    },
    {
      "cell_type": "markdown",
      "metadata": {},
      "source": [
        "Using a row-transformation, the weight values for each observation sum to 1"
      ],
      "id": "53695880"
    },
    {
      "cell_type": "code",
      "metadata": {},
      "source": [
        "g_kernel_linear.transform(\"r\").adjacency.groupby(level=0).sum()"
      ],
      "id": "8ce1ccff",
      "execution_count": null,
      "outputs": []
    },
    {
      "cell_type": "markdown",
      "metadata": {},
      "source": [
        "If we doubly standardize, the weight values for all observations combined sums to 1"
      ],
      "id": "df7f44ea"
    },
    {
      "cell_type": "code",
      "metadata": {},
      "source": [
        "g_kernel_linear.transform(\"d\").adjacency.groupby(level=0).sum().sum()"
      ],
      "id": "16db7183",
      "execution_count": null,
      "outputs": []
    },
    {
      "cell_type": "markdown",
      "metadata": {},
      "source": [
        "## Advanced Graphs\n",
        "\n",
        "### Flow-based Graphs\n",
        "\n",
        "Instead of spatial proximity, the relationship between observations could be\n",
        "represented by other types of flow data, such as trade, transactions, or\n",
        "observed commutes. For example, the Census LODES data contain information on\n",
        "flows between residential locations and job locations at the block level. This\n",
        "uses LODES V7 which is based on 2010 census block definitions"
      ],
      "id": "db5177c5"
    },
    {
      "cell_type": "code",
      "metadata": {},
      "source": [
        "dc_flows = pd.read_csv(\n",
        "    \"https://lehd.ces.census.gov/data/lodes/LODES7/dc/od/dc_od_main_JT00_2019.csv.gz\"\n",
        ")"
      ],
      "id": "476c34fe",
      "execution_count": null,
      "outputs": []
    },
    {
      "cell_type": "markdown",
      "metadata": {},
      "source": [
        "The data are formatted as an adjacency list, with the first three columns\n",
        "containing all the necessary information:\n",
        "\n",
        "- \"w_geocode\": workplace block fips code\n",
        "- \"h_geocode\": home block fips code\n",
        "- \"S000\": the total number of jobs (i.e. flows) between home and work"
      ],
      "id": "b5c36043"
    },
    {
      "cell_type": "code",
      "metadata": {},
      "source": [
        "# the block-level data is large, so save to disk before reading in\n",
        "dc_blks = datasets.blocks_2010(states=\"11\")"
      ],
      "id": "02e644d8",
      "execution_count": null,
      "outputs": []
    },
    {
      "cell_type": "markdown",
      "metadata": {},
      "source": [
        "Once again, we pivot this adjacency list into a properly-ordered sparse matrix"
      ],
      "id": "a4b353ce"
    },
    {
      "cell_type": "code",
      "metadata": {},
      "source": [
        "dc_flows[[\"w_geocode\", \"h_geocode\"]] = dc_flows[[\"w_geocode\", \"h_geocode\"]].astype(str)\n",
        "dc_flows[\"S000\"] = dc_flows[\"S000\"].astype(float)\n",
        "\n",
        "dc_blks = dc_blks[dc_blks.geoid.isin(dc_flows.w_geocode.unique())]\n",
        "ids = dc_blks.geoid.values\n",
        "\n",
        "dc_flows_sparse = (\n",
        "    dc_flows.set_index([\"w_geocode\", \"h_geocode\"])[\"S000\"]\n",
        "    .astype(\"Sparse[float]\")\n",
        "    .reindex(ids, level=0)\n",
        "    .reindex(ids, level=1)\n",
        "    .sparse.to_coo(sort_labels=True)[0]\n",
        ")\n",
        "\n",
        "g_flow = Graph.from_sparse(dc_flows_sparse, ids=ids)"
      ],
      "id": "3d76c7f6",
      "execution_count": null,
      "outputs": []
    },
    {
      "cell_type": "code",
      "metadata": {},
      "source": [
        "g_flow.cardinalities.hist()"
      ],
      "id": "cc42d064",
      "execution_count": null,
      "outputs": []
    },
    {
      "cell_type": "code",
      "metadata": {},
      "source": [
        "g_flow.pct_nonzero"
      ],
      "id": "34107cd9",
      "execution_count": null,
      "outputs": []
    },
    {
      "cell_type": "code",
      "metadata": {},
      "source": [
        "g_flow.adjacency.reset_index().describe()"
      ],
      "id": "bfe35ff9",
      "execution_count": null,
      "outputs": []
    },
    {
      "cell_type": "code",
      "metadata": {},
      "source": [
        "dc_blks.plot()"
      ],
      "id": "16ddaa07",
      "execution_count": null,
      "outputs": []
    },
    {
      "cell_type": "code",
      "metadata": {},
      "source": [
        "g_flow.adjacency"
      ],
      "id": "38547e73",
      "execution_count": null,
      "outputs": []
    },
    {
      "cell_type": "code",
      "metadata": {},
      "source": [
        "g_flow.n"
      ],
      "id": "caf259bf",
      "execution_count": null,
      "outputs": []
    },
    {
      "cell_type": "code",
      "metadata": {},
      "source": [
        "dc_blks.shape[0]"
      ],
      "id": "5ed14b7c",
      "execution_count": null,
      "outputs": []
    },
    {
      "cell_type": "code",
      "metadata": {},
      "source": [
        "ax = g_flow.plot(\n",
        "    dc_blks.set_index(\"geoid\"),\n",
        "    nodes=False,\n",
        "    edge_kws=dict(alpha=0.004, linestyle=\"dotted\"),\n",
        "    figsize=(7,8),\n",
        ")\n",
        "ctx.add_basemap(ax=ax, source=ctx.providers.CartoDB.Positron, crs=dc_blks.crs)\n",
        "ax.axis(\"off\")"
      ],
      "id": "47b30820",
      "execution_count": null,
      "outputs": []
    },
    {
      "cell_type": "markdown",
      "metadata": {},
      "source": [
        "Here, the plot shows flows between origins and destinations. The strong central tendency shows how commutes tend to flow toward the center of the city\n",
        "\n",
        "### Coincident Nodes\n",
        "\n",
        "Classic spatial graphs are built from polygon data, which are typically\n",
        "exhaustive and planar-enforced. The Census block and blockgroup data we have\n",
        "seen until now are typical in this way; the relationships expressed by polygon\n",
        "contiguity (or distance) are unambiguous and straightforward to model using a\n",
        "simple set of rules, but these spatial representations are often over-simplified\n",
        "or aggregate summaries of real phenomena. Blockgroups, for example, are zones\n",
        "created from aggregated household data, and the relationships can become more\n",
        "complex when working with disaggregate microdata recorded at the household\n",
        "level.\n",
        "\n",
        "Continuing with the household example, in urban areas, it is common for many\n",
        "observations to be located at the same \"place\", for example an apartment\n",
        "building with several units located at the same physical address (in some cases\n",
        "additional information such as floor level could be available, allowing 3D\n",
        "distance computations, but this is an unusually detailed case that also requires\n",
        "the actual floor layout of each building to be realistic...). In these cases,\n",
        "(i.e. with several coincident observations in space) certain graph-building\n",
        "rules like triangulation or k-nearest neighbors can become invalid when the\n",
        "relatioships between points are undefined, yielding, e.g. 10 nearest neighbors\n",
        "at *exactly the same location* when the user has requested a graph with `k=5`.\n",
        "How do we choose which 5 among the coincident 10 should be neighbors?\n",
        "\n",
        "...We dont. Instead, we offer two solutions that make the rule valid:\n",
        "\n",
        "- `jitter` introduces a small amount of random noise into each location,\n",
        "  dispersing a set of coincident points into a small point cloud. This generates\n",
        "  a valid topology that can be operated upon using the original construction\n",
        "  rule. The tradeoff, here, is that the neighbor-set is stochastic and any two\n",
        "  versions of a jittered `Graph` will likely have very different neighbors.\n",
        "\n",
        "- `clique` expands the graph internally, as necessary, so that the construction\n",
        "  rule applies to each unique *location* rather than each unique *observation*.\n",
        "  This effectively makes every coincident observation a neighbor with all other\n",
        "  coincident observations, then proceeds with the normal construction rule. In\n",
        "  other words, we operate on the subset of points for which the original\n",
        "  construction rule *is* valid, then retroactively break the rule to reinsert\n",
        "  the omitted observations back into their neighborhoods. In many cases, this\n",
        "  can result in a \"conceptually accurate\" representation of the nighborhood\n",
        "  (e.g. where units in the same apartment building are all considered\n",
        "  neighbors), however the construction 'rule' will ultimately end up broken,\n",
        "  which removes some of the desirable properties of certain graphs. For example,\n",
        "  a KNN graph with 10 neighbors will now have variation, as some locations will\n",
        "  have greater than 10 neighbors.\n"
      ],
      "id": "9942582c"
    }
  ],
  "metadata": {
    "kernelspec": {
      "name": "conda-env-nersa25-py",
      "language": "python",
      "display_name": "Python [conda env:nersa25]",
      "path": "/Users/knaaptime/Library/Jupyter/kernels/conda-env-nersa25-py"
    }
  },
  "nbformat": 4,
  "nbformat_minor": 5
}