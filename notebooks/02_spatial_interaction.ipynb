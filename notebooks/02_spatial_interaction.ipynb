{
 "cells": [
  {
   "cell_type": "markdown",
   "metadata": {},
   "source": [
    "---\n",
    "title: Migration Graphs and Spatial Interaction\n",
    "jupyter: conda-env-nersa25-py\n",
    "---"
   ]
  },
  {
   "cell_type": "code",
   "execution_count": null,
   "metadata": {},
   "outputs": [],
   "source": [
    "import geopandas as gpd\n",
    "import numpy as np\n",
    "import networkx as nx\n",
    "import pandas as pd\n",
    "import seaborn as sns\n",
    "import statsmodels.formula.api as smf\n",
    "from formulaic import Formula\n",
    "from geosnap import DataStore\n",
    "from geosnap import io as gio\n",
    "from libpysal.graph import Graph\n",
    "from lonboard import Map, PolygonLayer, ScatterplotLayer, basemap, viz\n",
    "from lonboard.experimental import ArcLayer\n",
    "from lonboard.layer_extension import BrushingExtension\n",
    "from mapclassify.util import get_color_array\n",
    "from shapely import LineString\n",
    "from spint.gravity import Attraction, Doubly, Gravity, Production\n",
    "from statsmodels.api import families\n",
    "%load_ext watermark\n",
    "%watermark -a 'eli knaap'"
   ]
  },
  {
   "cell_type": "markdown",
   "metadata": {},
   "source": [
    "## Demographic & Socioeconomic Data\n",
    "\n",
    "### ACS Data"
   ]
  },
  {
   "cell_type": "code",
   "execution_count": null,
   "metadata": {},
   "outputs": [],
   "source": [
    "datasets = DataStore()\n",
    "\n",
    "dc = gio.get_acs(datasets, state_fips=\"11\", years=2021, level=\"tract\")"
   ]
  },
  {
   "cell_type": "code",
   "execution_count": null,
   "metadata": {},
   "outputs": [],
   "source": [
    "dc.head()"
   ]
  },
  {
   "cell_type": "code",
   "execution_count": null,
   "metadata": {},
   "outputs": [],
   "source": [
    "dc.plot()"
   ]
  },
  {
   "cell_type": "markdown",
   "metadata": {},
   "source": [
    "### LODES Data\n",
    "\n",
    "See the [technical documentation](https://lehd.ces.census.gov/data/lodes/LODES8/LODESTechDoc8.3.pdf)"
   ]
  },
  {
   "cell_type": "code",
   "execution_count": null,
   "metadata": {},
   "outputs": [],
   "source": [
    "dc_flows = pd.read_csv(\n",
    "    \"https://lehd.ces.census.gov/data/lodes/LODES8/dc/od/dc_od_main_JT00_2022.csv.gz\",\n",
    "    converters={\"w_geocode\": str, \"h_geocode\": str},\n",
    "    low_memory=False,\n",
    "    encoding=\"latin1\",\n",
    ")"
   ]
  },
  {
   "cell_type": "code",
   "execution_count": null,
   "metadata": {},
   "outputs": [],
   "source": [
    "dc_flows"
   ]
  },
  {
   "cell_type": "markdown",
   "metadata": {},
   "source": [
    "add tract-level geoids and drop extraneous columns"
   ]
  },
  {
   "cell_type": "code",
   "execution_count": null,
   "metadata": {},
   "outputs": [],
   "source": [
    "dc_flows[\"w_tr_geocode\"] = dc_flows[\"w_geocode\"].str[:11]\n",
    "dc_flows[\"h_tr_geocode\"] = dc_flows[\"h_geocode\"].str[:11]\n",
    "\n",
    "dc_flows = dc_flows[[\"w_geocode\", \"h_geocode\", \"w_tr_geocode\", \"h_tr_geocode\", \"S000\"]]"
   ]
  },
  {
   "cell_type": "markdown",
   "metadata": {},
   "source": [
    "pretend like its a closed system, only consdidering intra-regional flows\n",
    "\n",
    "aggregate to tract-level flows (from block-level)"
   ]
  },
  {
   "cell_type": "code",
   "execution_count": null,
   "metadata": {},
   "outputs": [],
   "source": [
    "dc_flows = (\n",
    "    dc_flows.groupby([\"w_tr_geocode\", \"h_tr_geocode\"])[\"S000\"].sum().reset_index()\n",
    ")"
   ]
  },
  {
   "cell_type": "markdown",
   "metadata": {},
   "source": [
    "this is an origin-destination matrix (as an adjacency list). `S000` is the number of flows between home census tract `h_tr_geocode` and work tract `w_tr_geocode`. There are many intra-tract flows $W_{ii}\\neq0$} (people commuting within the same tract, or *possibly* WFH, though that would be tough with LODES) and the flows are *directed* $W_{ij} \\neq W_{ji}$"
   ]
  },
  {
   "cell_type": "code",
   "execution_count": null,
   "metadata": {},
   "outputs": [],
   "source": [
    "dc_flows"
   ]
  },
  {
   "cell_type": "markdown",
   "metadata": {},
   "source": [
    "create a pysal Graph to represent these flows. to represent the direction of flow correctly the focal column is home and neighbor is work (this shows the AM commute)"
   ]
  },
  {
   "cell_type": "code",
   "execution_count": null,
   "metadata": {},
   "outputs": [],
   "source": [
    "dc_flow_graph = Graph.from_adjacency(\n",
    "    adjacency=dc_flows,\n",
    "    focal_col=\"h_tr_geocode\",\n",
    "    neighbor_col=\"w_tr_geocode\",\n",
    "    weight_col=\"S000\",\n",
    ")"
   ]
  },
  {
   "cell_type": "code",
   "execution_count": null,
   "metadata": {},
   "outputs": [],
   "source": [
    "dc_flow_graph.summary()"
   ]
  },
  {
   "cell_type": "code",
   "execution_count": null,
   "metadata": {},
   "outputs": [],
   "source": [
    "dc_flow_graph.adjacency.head()"
   ]
  },
  {
   "cell_type": "markdown",
   "metadata": {},
   "source": [
    "the `Graph` is ordered, and to visualize it correctly we want to align our other data to match this Graph; so stash the id/order"
   ]
  },
  {
   "cell_type": "code",
   "execution_count": null,
   "metadata": {},
   "outputs": [],
   "source": [
    "idx = dc_flow_graph.unique_ids"
   ]
  },
  {
   "cell_type": "markdown",
   "metadata": {},
   "source": [
    "create a geodataframe of centroids to visualize point-to-point flows, then reindex to re-order appropriately and drop observations with no flow."
   ]
  },
  {
   "cell_type": "code",
   "execution_count": null,
   "metadata": {},
   "outputs": [],
   "source": [
    "dc_centroids = dc.set_geometry(dc.centroid)\n",
    "dc_centroids = dc_centroids.set_index(\"geoid\").reindex(idx)"
   ]
  },
  {
   "cell_type": "code",
   "execution_count": null,
   "metadata": {},
   "outputs": [],
   "source": [
    "dc_centroids.shape  # matches our Graph.n"
   ]
  },
  {
   "cell_type": "code",
   "execution_count": null,
   "metadata": {},
   "outputs": [],
   "source": [
    "dc = dc.set_index(\"geoid\")"
   ]
  },
  {
   "cell_type": "markdown",
   "metadata": {},
   "source": [
    "## Migration as a Graph\n",
    "\n",
    "the matrix representation of the network shows us the level of flow from each origin-destination pair\n",
    "\n",
    "### Matrix Representation"
   ]
  },
  {
   "cell_type": "code",
   "execution_count": null,
   "metadata": {},
   "outputs": [],
   "source": [
    "dc_flow_graph.sparse.todense()"
   ]
  },
  {
   "cell_type": "markdown",
   "metadata": {},
   "source": [
    "there are lots of \"internal flows\", i.e. commutes that begin and end in the same tract (relatively large numbers along the diagonal). But it's common in migration studies to focus on inter-zonal flows, so we remove these--but first we will record the total numbers"
   ]
  },
  {
   "cell_type": "code",
   "execution_count": null,
   "metadata": {},
   "outputs": [],
   "source": [
    "all_commutes = pd.Series(\n",
    "    dc_flow_graph.sparse.sum(axis=1), index=dc_flow_graph.unique_ids, name=\"flows\"\n",
    ")"
   ]
  },
  {
   "cell_type": "markdown",
   "metadata": {},
   "source": [
    "now save the total number of internal commutes (self-loops in the network; the diagonal of the matrix)"
   ]
  },
  {
   "cell_type": "code",
   "execution_count": null,
   "metadata": {},
   "outputs": [],
   "source": [
    "# how many self-loops (trips originating and ending in the same tract\n",
    "# not sure if there's an easier way to get this, but its the diagonal of the weights matrix\n",
    "intra_commutes = pd.Series(\n",
    "    np.diag(dc_flow_graph.sparse.todense()),\n",
    "    index=dc_flow_graph.unique_ids,\n",
    "    name=\"self_loops\",\n",
    ")\n",
    "intra_share = intra_commutes / all_commutes"
   ]
  },
  {
   "cell_type": "code",
   "execution_count": null,
   "metadata": {},
   "outputs": [],
   "source": [
    "intra_commutes"
   ]
  },
  {
   "cell_type": "markdown",
   "metadata": {},
   "source": [
    "just so we can take a look: internal commutes are a small but non-significant share of our job flow data"
   ]
  },
  {
   "cell_type": "code",
   "execution_count": null,
   "metadata": {
    "scrolled": true
   },
   "outputs": [],
   "source": [
    "intra_share"
   ]
  },
  {
   "cell_type": "code",
   "execution_count": null,
   "metadata": {},
   "outputs": [],
   "source": [
    "intra_commutes.sum() / all_commutes.sum()"
   ]
  },
  {
   "cell_type": "markdown",
   "metadata": {},
   "source": [
    "in DC, 3.6% of the employees in LODES data have a job and workplace in the same census tract"
   ]
  },
  {
   "cell_type": "code",
   "execution_count": null,
   "metadata": {
    "scrolled": true
   },
   "outputs": [],
   "source": [
    "dc.join(intra_commutes, how=\"left\").explore(\n",
    "    \"self_loops\",\n",
    "    style_kwds={\"weight\": 0.5},\n",
    "    tiles=\"cartodb positron\",\n",
    "    tooltip=\"self_loops\",\n",
    "    scheme=\"fisherjenks\",\n",
    "    cmap=\"RdBu_r\",\n",
    ")"
   ]
  },
  {
   "cell_type": "code",
   "execution_count": null,
   "metadata": {},
   "outputs": [],
   "source": [
    "dc.join(intra_share.rename(\"intra_share\"), how=\"left\").explore(\n",
    "    \"intra_share\",\n",
    "    style_kwds={\"weight\": 0.5},\n",
    "    tiles=\"cartodb positron\",\n",
    "    tooltip=\"intra_share\",\n",
    "    scheme=\"fisherjenks\",\n",
    "    cmap=\"RdBu_r\",\n",
    ")"
   ]
  },
  {
   "cell_type": "markdown",
   "metadata": {},
   "source": [
    "### Network Representation\n",
    "\n",
    "to look at directionality (sending regions vs receiving regions) we can use network method from `networkx`\n",
    "\n",
    "we only want to consider incoming and outgoing flows, so we first remove the diagonal in our `Graph` (and drop those observations), then convert to a `networkx` object"
   ]
  },
  {
   "cell_type": "code",
   "execution_count": null,
   "metadata": {},
   "outputs": [],
   "source": [
    "dc_nx = dc_flow_graph.assign_self_weight(0).eliminate_zeros().to_networkx()"
   ]
  },
  {
   "cell_type": "markdown",
   "metadata": {},
   "source": [
    "the *degree* of a node is the number of connections it has. Out-degree is the number of outgoing connections and in-degree is the number of incoming connections. For a focal observation, the *out degree* is the number of 'neighbors' it has (in spatial graph terminology), which is the same as its *cardinality*"
   ]
  },
  {
   "cell_type": "code",
   "execution_count": null,
   "metadata": {},
   "outputs": [],
   "source": [
    "dc_flow_graph.assign_self_weight(0).eliminate_zeros().cardinalities"
   ]
  },
  {
   "cell_type": "code",
   "execution_count": null,
   "metadata": {},
   "outputs": [],
   "source": [
    "pd.Series(dict(dc_nx.out_degree))"
   ]
  },
  {
   "cell_type": "markdown",
   "metadata": {},
   "source": [
    "when the degree measure is weighted, each link/edge/relationship is multiplied by by its weight. Thus the weighted degree for each node is the sum of its weights  (in spatial econometric parlance, this is equivalent to an un-transformed *spatial lag*)\n",
    "\n",
    "with out flow data, the weighted out degree measures the number of trips moving away from a home tract in the AM, and in-degree measures the number of trips incoming during the AM commute. The weighted degree (plain) is their sum, capturing the total fluctuation in the unit"
   ]
  },
  {
   "cell_type": "code",
   "execution_count": null,
   "metadata": {},
   "outputs": [],
   "source": [
    "out_degree = pd.Series(\n",
    "    dict(dc_nx.out_degree(dc_nx, weight=\"weight\")), name=\"out_degree\"\n",
    ")\n",
    "in_degree = pd.Series(\n",
    "    dict(dc_nx.in_degree(dc_nx, weight=\"weight\")), name=\"in_degree\"\n",
    ")\n",
    "\n",
    "degree = pd.Series(dict(dc_nx.degree(dc_nx, weight=\"weight\")), name=\"degree\")"
   ]
  },
  {
   "cell_type": "markdown",
   "metadata": {},
   "source": [
    "note the weighted out-degree is the same as the *spatial lag* when the weights matrix is unstandardized"
   ]
  },
  {
   "cell_type": "code",
   "execution_count": null,
   "metadata": {},
   "outputs": [],
   "source": [
    "lag = dc_flow_graph.lag(np.ones(dc_flow_graph.n))"
   ]
  },
  {
   "cell_type": "code",
   "execution_count": null,
   "metadata": {},
   "outputs": [],
   "source": [
    "pd.Series(lag).hist()"
   ]
  },
  {
   "cell_type": "code",
   "execution_count": null,
   "metadata": {},
   "outputs": [],
   "source": [
    "out_degree.hist()"
   ]
  },
  {
   "cell_type": "code",
   "execution_count": null,
   "metadata": {},
   "outputs": [],
   "source": [
    "pop_change = intra_commutes + in_degree - out_degree"
   ]
  },
  {
   "cell_type": "code",
   "execution_count": null,
   "metadata": {},
   "outputs": [],
   "source": [
    "pop_change.hist()"
   ]
  },
  {
   "cell_type": "code",
   "execution_count": null,
   "metadata": {},
   "outputs": [],
   "source": [
    "# daily population change\n",
    "# internal movers plus immigration minus emigration\n",
    "intra_commutes + in_degree - out_degree"
   ]
  },
  {
   "cell_type": "code",
   "execution_count": null,
   "metadata": {},
   "outputs": [],
   "source": [
    "out_degree"
   ]
  },
  {
   "cell_type": "code",
   "execution_count": null,
   "metadata": {
    "scrolled": true
   },
   "outputs": [],
   "source": [
    "out_degree.sum() + intra_commutes.sum() == all_commutes.sum()"
   ]
  },
  {
   "cell_type": "code",
   "execution_count": null,
   "metadata": {},
   "outputs": [],
   "source": [
    "dc_flow_graph.adjacency.reset_index().groupby(\"neighbor\").sum().sum()"
   ]
  },
  {
   "cell_type": "code",
   "execution_count": null,
   "metadata": {},
   "outputs": [],
   "source": [
    "out_degree.sum()"
   ]
  },
  {
   "cell_type": "code",
   "execution_count": null,
   "metadata": {},
   "outputs": [],
   "source": [
    "out_degree.sum() / all_commutes.sum()"
   ]
  },
  {
   "cell_type": "code",
   "execution_count": null,
   "metadata": {},
   "outputs": [],
   "source": [
    "all_commutes.sum()"
   ]
  },
  {
   "cell_type": "code",
   "execution_count": null,
   "metadata": {},
   "outputs": [],
   "source": [
    "sns.heatmap(dc_flow_graph.sparse.todense())"
   ]
  },
  {
   "cell_type": "code",
   "execution_count": null,
   "metadata": {},
   "outputs": [],
   "source": [
    "out_degree.hist(bins=20)"
   ]
  },
  {
   "cell_type": "code",
   "execution_count": null,
   "metadata": {},
   "outputs": [],
   "source": [
    "in_degree.sum()"
   ]
  },
  {
   "cell_type": "code",
   "execution_count": null,
   "metadata": {},
   "outputs": [],
   "source": [
    "in_degree.hist(bins=20)"
   ]
  },
  {
   "cell_type": "markdown",
   "metadata": {},
   "source": [
    "## Visualization\n",
    "\n",
    "### Mapping Graph Metrics\n",
    "\n",
    "mapping out-degree shows exports/out-migration"
   ]
  },
  {
   "cell_type": "code",
   "execution_count": null,
   "metadata": {},
   "outputs": [],
   "source": [
    "dc.join(out_degree, how=\"left\").explore(\n",
    "    \"out_degree\",\n",
    "    style_kwds={\"weight\": 0.5},\n",
    "    tiles=\"cartodb positron\",\n",
    "    tooltip=\"out_degree\",\n",
    "    scheme=\"fisherjenks\",\n",
    ")"
   ]
  },
  {
   "cell_type": "markdown",
   "metadata": {},
   "source": [
    "out migration as a share of all change"
   ]
  },
  {
   "cell_type": "code",
   "execution_count": null,
   "metadata": {},
   "outputs": [],
   "source": [
    "dc.join((out_degree / all_commutes).rename(\"out_share\"), how=\"left\").plot(\n",
    "    \"out_share\",\n",
    "    linewidth=0.5,\n",
    "    #style_kwds={\"weight\": 0.5},\n",
    "    #tiles=\"cartodb positron\",\n",
    "    #tooltip=\"out_share\",\n",
    "    scheme=\"fisherjenks\",\n",
    "    cmap=\"RdBu_r\",\n",
    ")"
   ]
  },
  {
   "cell_type": "markdown",
   "metadata": {},
   "source": [
    "in-degree measures imports/immigration"
   ]
  },
  {
   "cell_type": "code",
   "execution_count": null,
   "metadata": {},
   "outputs": [],
   "source": [
    "dc.join(in_degree, how=\"left\").explore(\n",
    "    \"in_degree\",\n",
    "    style_kwds={\"weight\": 0.5},\n",
    "    linewidth=0.5,\n",
    "    tiles=\"cartodb positron\",\n",
    "    tooltip=\"in_degree\",\n",
    "    scheme=\"fisherjenks\",\n",
    ")"
   ]
  },
  {
   "cell_type": "markdown",
   "metadata": {},
   "source": [
    "in-migration as a share of all change"
   ]
  },
  {
   "cell_type": "code",
   "execution_count": null,
   "metadata": {},
   "outputs": [],
   "source": [
    "(in_degree / (intra_commutes + in_degree)).hist()"
   ]
  },
  {
   "cell_type": "code",
   "execution_count": null,
   "metadata": {
    "scrolled": true
   },
   "outputs": [],
   "source": [
    "dc.join(\n",
    "    (in_degree / (intra_commutes + in_degree)).rename(\"in_share\"), how=\"left\"\n",
    ").plot(\n",
    "    \"in_share\",\n",
    "    #style_kwds={\"weight\": 0.5},\n",
    "    #tiles=\"cartodb positron\",\n",
    "    #tooltip=\"in_share\",\n",
    "    linewidth=0.5,\n",
    "    scheme=\"fisherjenks\",\n",
    "    cmap=\"RdBu_r\",\n",
    ")"
   ]
  },
  {
   "cell_type": "code",
   "execution_count": null,
   "metadata": {},
   "outputs": [],
   "source": [
    "(out_degree / all_commutes).hist()"
   ]
  },
  {
   "cell_type": "markdown",
   "metadata": {},
   "source": [
    "net immigration"
   ]
  },
  {
   "cell_type": "code",
   "execution_count": null,
   "metadata": {},
   "outputs": [],
   "source": [
    "dc.join(((in_degree - out_degree) / degree).rename(\"diff\"), how=\"left\").plot(\n",
    "    \"diff\",\n",
    "    #style_kwds={\"weight\": 0.5},\n",
    "    #tiles=\"cartodb positron\",\n",
    "    #tooltip=\"diff\",\n",
    "    linewidth=0.5,\n",
    "    scheme=\"fisherjenks\",\n",
    "    cmap=\"RdBu_r\",\n",
    "    legend=True\n",
    ")"
   ]
  },
  {
   "cell_type": "code",
   "execution_count": null,
   "metadata": {},
   "outputs": [],
   "source": [
    "out_degree / all_commutes"
   ]
  },
  {
   "cell_type": "markdown",
   "metadata": {},
   "source": [
    "### Mapping with Three Dimensions\n",
    "\n",
    "the flow graph is difficult to visualize because (1) it's so dense (there's so\n",
    "many lines they obscure one another), and (2) the flows are bi-directional (so\n",
    "they lay on top of each other). With a bit more work, we can get a better\n",
    "visualization via `lonboard`. Using the `Graph` and a little geopandas\n",
    "knowledge, we can get our data in good shape quickly."
   ]
  },
  {
   "cell_type": "code",
   "execution_count": null,
   "metadata": {},
   "outputs": [],
   "source": [
    "flows = dc_flow_graph.adjacency.reset_index()"
   ]
  },
  {
   "cell_type": "code",
   "execution_count": null,
   "metadata": {},
   "outputs": [],
   "source": [
    "flows"
   ]
  },
  {
   "cell_type": "code",
   "execution_count": null,
   "metadata": {},
   "outputs": [],
   "source": [
    "# mapping of geoid to (point) geometry\n",
    "dc.centroid.head()"
   ]
  },
  {
   "cell_type": "markdown",
   "metadata": {},
   "source": [
    "start by creating a set of lines representing flows"
   ]
  },
  {
   "cell_type": "code",
   "execution_count": null,
   "metadata": {},
   "outputs": [],
   "source": [
    "flows['focal'] = flows['focal'].replace(dc_centroids['geometry'].to_dict())\n",
    "flows['neighbor'] = flows['neighbor'].replace(dc_centroids['geometry'].to_dict())"
   ]
  },
  {
   "cell_type": "code",
   "execution_count": null,
   "metadata": {},
   "outputs": [],
   "source": [
    "flows"
   ]
  },
  {
   "cell_type": "code",
   "execution_count": null,
   "metadata": {},
   "outputs": [],
   "source": [
    "origins = gpd.GeoSeries(flows.focal).get_coordinates().values\n",
    "\n",
    "destinations = (\n",
    "    gpd.GeoSeries(flows.neighbor).get_coordinates().values\n",
    ")"
   ]
  },
  {
   "cell_type": "code",
   "execution_count": null,
   "metadata": {},
   "outputs": [],
   "source": [
    "origins"
   ]
  },
  {
   "cell_type": "code",
   "execution_count": null,
   "metadata": {},
   "outputs": [],
   "source": [
    "LineString([flows['focal'][0], flows['neighbor'][0]])"
   ]
  },
  {
   "cell_type": "code",
   "execution_count": null,
   "metadata": {},
   "outputs": [],
   "source": [
    "lines = gpd.GeoSeries([LineString([row[1]['focal'], row[1]['neighbor']]) for row in flows.iterrows()], crs=4326)"
   ]
  },
  {
   "cell_type": "code",
   "execution_count": null,
   "metadata": {},
   "outputs": [],
   "source": [
    "flow_lines =gpd.GeoDataFrame(flows['weight'], geometry=lines)"
   ]
  },
  {
   "cell_type": "code",
   "execution_count": null,
   "metadata": {},
   "outputs": [],
   "source": [
    "flow_lines"
   ]
  },
  {
   "cell_type": "markdown",
   "metadata": {},
   "source": [
    "this is the best we can do with a generic `explore`"
   ]
  },
  {
   "cell_type": "code",
   "execution_count": null,
   "metadata": {},
   "outputs": [],
   "source": [
    "lines.explore()"
   ]
  },
  {
   "cell_type": "markdown",
   "metadata": {},
   "source": [
    "piping the same dataset into `lonboard`, we get basically the same thing"
   ]
  },
  {
   "cell_type": "code",
   "execution_count": null,
   "metadata": {},
   "outputs": [],
   "source": [
    "viz(flow_lines)"
   ]
  },
  {
   "cell_type": "code",
   "execution_count": null,
   "metadata": {},
   "outputs": [],
   "source": [
    "dc_flow_graph.adjacency"
   ]
  },
  {
   "cell_type": "code",
   "execution_count": null,
   "metadata": {},
   "outputs": [],
   "source": [
    "flow_lines[['weight', 'geometry']]"
   ]
  },
  {
   "cell_type": "markdown",
   "metadata": {},
   "source": [
    "lets do better"
   ]
  },
  {
   "cell_type": "code",
   "execution_count": null,
   "metadata": {},
   "outputs": [],
   "source": [
    "brushing_extension = BrushingExtension()\n",
    "brushing_radius = 300\n",
    "\n",
    "arc_layer = ArcLayer(\n",
    "    table=flow_lines[['weight', 'geometry']].to_arrow(),\n",
    "    get_width=flow_lines.weight.apply(lambda x: x**.7),\n",
    "    get_source_position=origins,\n",
    "    get_target_position=destinations,\n",
    "    opacity=0.4,\n",
    "    pickable=False,\n",
    "    extensions=[brushing_extension],\n",
    "    brushing_radius=brushing_radius,\n",
    "    get_source_color=get_color_array(flow_lines.weight**.7, scheme='fisher_jenks', k=10, cmap='inferno_r'),\n",
    "    get_target_color=get_color_array(flow_lines.weight**.7, scheme='fisher_jenks', k=10, cmap='inferno_r')\n",
    ")\n",
    "\n",
    "source_gdf = gpd.GeoDataFrame(geometry=flows[\"focal\"], crs=4326)\n",
    "target_gdf = gpd.GeoDataFrame(geometry=flows[\"neighbor\"], crs=4326)\n",
    "\n",
    "tgt = ScatterplotLayer.from_geopandas(\n",
    "    target_gdf,\n",
    "    radius_scale=30,\n",
    "    pickable=True,\n",
    "    stroked=False,\n",
    "    filled=True,\n",
    "    line_width_min_pixels=2,\n",
    "    extensions=[brushing_extension],\n",
    "    brushing_radius=brushing_radius,\n",
    ")\n",
    "\n",
    "src = ScatterplotLayer.from_geopandas(\n",
    "    source_gdf,\n",
    "    radius_scale=15,\n",
    "    pickable=False,\n",
    "    stroked=False,\n",
    "    filled=True,\n",
    "    line_width_min_pixels=2,\n",
    "    extensions=[brushing_extension],\n",
    "    brushing_radius=brushing_radius,\n",
    ")\n",
    "\n",
    "bounds = PolygonLayer.from_geopandas(\n",
    "    dc.to_crs(4326),\n",
    "    get_fill_color=[255, 255, 255, 200],\n",
    "    stroked=True,\n",
    "    line_width_min_pixels=0.5,\n",
    "    pickable=False,\n",
    "    opacity=0.3\n",
    ")\n",
    "\n",
    "ogb = ScatterplotLayer.from_geopandas(\n",
    "    source_gdf,\n",
    "    get_fill_color=[255, 255, 255, 200],\n",
    "    stroked=True,\n",
    "    line_width_min_pixels=0.5,\n",
    "    pickable=False,\n",
    ")\n",
    "\n",
    "gmap = Map(layers=[bounds, src, tgt, arc_layer,ogb], picking_radius=500)\n",
    "gmap.to_html('dc_flow_orig_orient.html')\n",
    "\n",
    "\n",
    "gmap"
   ]
  },
  {
   "cell_type": "markdown",
   "metadata": {},
   "source": [
    "The mouseover is keyed on *home* (origin), so the visualization shows flows\n",
    "*away* from the selected location. To focus on destinations/inflows, we can\n",
    "reverse the orientation in the ArcLayer. Use control+click and drag in the map\n",
    "to change the view angle."
   ]
  },
  {
   "cell_type": "code",
   "execution_count": null,
   "metadata": {},
   "outputs": [],
   "source": [
    "flows"
   ]
  },
  {
   "cell_type": "code",
   "execution_count": null,
   "metadata": {},
   "outputs": [],
   "source": [
    "dest_graph = Graph.from_adjacency(dc_flows,\n",
    "    focal_col=\"w_tr_geocode\",\n",
    "    neighbor_col=\"h_tr_geocode\",\n",
    "    weight_col=\"S000\",\n",
    ")\n",
    "\n",
    "dest_graph_flows = dest_graph.adjacency.reset_index()\n",
    "\n",
    "dest_graph_flows['focal'] = dest_graph_flows['focal'].replace(dc_centroids['geometry'].to_dict())\n",
    "dest_graph_flows['neighbor'] = dest_graph_flows['neighbor'].replace(dc_centroids['geometry'].to_dict())\n",
    "\n",
    "dest_lines = gpd.GeoSeries([LineString([row[1]['focal'], row[1]['neighbor']]) for row in dest_graph_flows.iterrows()], crs=4326)\n",
    "dest_lines =gpd.GeoDataFrame(dest_graph_flows['weight'], geometry=dest_lines)\n",
    "\n",
    "origins = gpd.GeoSeries(dest_graph_flows.focal).get_coordinates().values\n",
    "\n",
    "destinations = (\n",
    "    gpd.GeoSeries(dest_graph_flows.neighbor).get_coordinates().values\n",
    ")\n",
    "\n",
    "arc_layer = ArcLayer(\n",
    "    table=dest_lines[['weight', 'geometry']].to_arrow(),\n",
    "    get_width=dest_lines.weight.apply(lambda x: x**.7),\n",
    "    get_source_position=origins,\n",
    "    get_target_position=destinations,\n",
    "    opacity=0.4,\n",
    "    pickable=False,\n",
    "    extensions=[brushing_extension],\n",
    "    brushing_radius=brushing_radius,\n",
    "    get_source_color=get_color_array(dest_lines.weight**.8, scheme='fisher_jenks', k=10, cmap='inferno_r'),\n",
    "    get_target_color=get_color_array(dest_lines.weight**.6, scheme='fisher_jenks', k=10, cmap='inferno_r')\n",
    ")\n",
    "gmap = Map(layers=[bounds, src, tgt, arc_layer,ogb], picking_radius=500)\n",
    "\n",
    "gmap.to_html('dc_flow_dest_orient.html')\n",
    "\n",
    "gmap"
   ]
  },
  {
   "cell_type": "markdown",
   "metadata": {},
   "source": [
    "This map is keyed on *destination*, so mousing over each observation shows flows\n",
    "migrating *into* the pointer.\n",
    "\n",
    "\n",
    "## Spatial Interaction Models\n",
    "\n",
    "Spatial interaction models are a classic regional science technique for modeling\n",
    "flows (migration, commuting, trading, etc). Spatial interaction models try to\n",
    "explain these flows between origin and destination as a function of origin\n",
    "(push) and destination (pull) factors, attenuated by the cost of traveling\n",
    "between them. The PySAL `spint` package implements a custom estimation engine\n",
    "designed for fast performance on sparse design matrices (like those typical in\n",
    "spatial interaction models), but they can also be fit using conventional\n",
    "statistical packages like `statsmodels` albeit with a performance downgrade.\n",
    "\n",
    "In this model, the dependent variable $y$ is the level of flow between an origin\n",
    "and destination. Our `Graph` is based on flows, which means $y$ is the value of\n",
    "the \"weight\" held in `dc_flow_graph`, thus can use the adjacency list as our\n",
    "core data structure.\n",
    "\n",
    "> Describing spatial interaction with an equation has a long and storied\n",
    "> history, with Carrothers (1956), Sen and Smith (1995), and Farmer and Oshan\n",
    "> (2017), among many others, furnishing point-in-time reviews of this topic in\n",
    "> terms of its popular gravity model formulation, whose general form is as\n",
    "> follows: \n",
    " \n",
    "$$F_{ij} = g[O_i, D_j, f(d_{ij})]$$ {#eq-interaction-general}\n",
    "\n",
    "> where $F_{ij}$ denotes the flow between origin $i$ and destination $j$ areal\n",
    "> units, $O_i$ is some attribute variable(s) quantifying relevant features of\n",
    "> origin $i$, $D_j$ is some attribute variable(s) quantifying relevant features\n",
    "> of destination $j$, $g$ is some function (frequently multiplicative in form),\n",
    "> and $f(d_{ij})$ is some deterrent. The initial functional form resulted in Eq.\n",
    "> (7.1) being transformed to a log-linear version and a normally distributed\n",
    "> error attached to it for estimation and inference purposes, yielding \n",
    "\n",
    "$$ log(F_{ij} + \\delta) = log(\\kappa) + \\alpha log(O_i)  + \\beta log(D_j) + \\gamma d_{ij} + \\epsilon_{ij} $$ {#eq-interaction-log-linear}\n",
    "\n",
    "> where `log` denotes natural logarithm, $\\epsilon_{ij}$ is a normally\n",
    "> distributed random error term, $\\delta \\geq 0$ added to the response variable\n",
    "> $F_{ij}$ is a translation parameter needed if any $F_{ij} = 0$, and $\\kappa, \\alpha, \\beta$ and $\\gamma$ are linear regression coefficients; sometimes this\n",
    "> equation includes $log(d_{ij})$ rather than $d_{ij}$. This specification\n",
    "> results in exponents for the $O_i$ and $D_j$ variables when the equation is\n",
    "> backtransformed to its multiplicative form. Difficulties associated with this\n",
    "> implementation include that $F_{ij}$ often is a count for which many cases are\n",
    "> zero (hence the need for $\\delta$).\n",
    ">\n",
    "> --- @griffith2019SpatialInteraction\n",
    "\n",
    "Given spatial interaction modeling's rich history in regional science, there are\n",
    "many good resources, both old and new, including @getis1991SpatialInteraction,\n",
    "@putman1989EffectsSpatial, @griffith2019SpatialInteraction, and\n",
    "@fotheringham1989SpatialInteraction (as usual, there's an insane Tobler paper on\n",
    "the topic [@tobler1983AlternativeFormulation]). The U.S. International Trade\n",
    "Commission also has a\n",
    "[Python statistical package](https://www.usitc.gov/data/gravity/gme.htm) for\n",
    "estimating gravity models (though with no emphasis on *space*), as well as a\n",
    "nice paper [on different\n",
    "estimators](https://www.unescap.org/sites/default/files/6%20-%204.%20Alternative%20Gravity%20Model%20Estimators_0.pdf)\n",
    "and their tradeoffs."
   ]
  },
  {
   "cell_type": "code",
   "execution_count": null,
   "metadata": {},
   "outputs": [],
   "source": [
    "dc_flow_graph = dc_flow_graph.assign_self_weight(0).eliminate_zeros()"
   ]
  },
  {
   "cell_type": "markdown",
   "metadata": {},
   "source": [
    "we use the flow graph as the basis for our new data structure"
   ]
  },
  {
   "cell_type": "code",
   "execution_count": null,
   "metadata": {},
   "outputs": [],
   "source": [
    "# sparse representation\n",
    "dc_interaction = (\n",
    "    dc_flow_graph.assign_self_weight(0).eliminate_zeros().adjacency.reset_index()\n",
    ")\n",
    "dc_interaction"
   ]
  },
  {
   "cell_type": "markdown",
   "metadata": {},
   "source": [
    "but we actually need the full dense representation (*with* the zeroes)"
   ]
  },
  {
   "cell_type": "code",
   "execution_count": null,
   "metadata": {},
   "outputs": [],
   "source": [
    "# for our dataset we want the full dense matrix\n",
    "dc_interaction = pd.Series(dc_flow_graph.sparse.toarray().reshape(-1), \n",
    "                             index=pd.MultiIndex.from_product([dc_flow_graph.unique_ids, \n",
    "                                                               dc_flow_graph.unique_ids.rename('neighbor')])).rename('weight')"
   ]
  },
  {
   "cell_type": "code",
   "execution_count": null,
   "metadata": {},
   "outputs": [],
   "source": [
    "dc_interaction = dc_interaction.reset_index()\n",
    "dc_interaction"
   ]
  },
  {
   "cell_type": "markdown",
   "metadata": {},
   "source": [
    "in spatial interaction terms focal=origin and neighbor=destination, so we can\n",
    "attach attributes of origins and destinations by doing left-joins on the\n",
    "y-variable successively based on focal, then neighbor"
   ]
  },
  {
   "cell_type": "code",
   "execution_count": null,
   "metadata": {},
   "outputs": [],
   "source": [
    "# first merge origin attributes\n",
    "dc_interaction = dc_interaction.merge(\n",
    "    dc.drop(columns=[\"geometry\"]), left_on=\"focal\", right_index=True, how=\"left\"\n",
    ")"
   ]
  },
  {
   "cell_type": "code",
   "execution_count": null,
   "metadata": {},
   "outputs": [],
   "source": [
    "# now merge destination attributes\n",
    "dc_interaction = dc_interaction.merge(\n",
    "    dc.drop(columns=[\"geometry\"]),\n",
    "    left_on=\"neighbor\",\n",
    "    right_index=True,\n",
    "    how=\"left\",\n",
    "    suffixes=[\"_origin\", \"_destination\"],\n",
    ")"
   ]
  },
  {
   "cell_type": "markdown",
   "metadata": {},
   "source": [
    "note the suffixes differentiate columns referring to origin and destination values, e.g. `median_household_income_origin` and `median_household_income_destination`"
   ]
  },
  {
   "cell_type": "code",
   "execution_count": null,
   "metadata": {},
   "outputs": [],
   "source": [
    "dc_interaction"
   ]
  },
  {
   "cell_type": "code",
   "execution_count": null,
   "metadata": {},
   "outputs": [],
   "source": [
    "dc_interaction[\n",
    "    [\"weight\", \"median_household_income_origin\", \"median_household_income_destination\"]\n",
    "]"
   ]
  },
  {
   "cell_type": "markdown",
   "metadata": {},
   "source": [
    "for a spatial interaction model we also need *another* Graph that measures the\n",
    "distance between observations. There are many ways to do this, but the easiest\n",
    "is to use a distance band weight where all observations are guaranteed to lie\n",
    "within the threshold (giving us a pairwise matrix)"
   ]
  },
  {
   "cell_type": "code",
   "execution_count": null,
   "metadata": {},
   "outputs": [],
   "source": [
    "dc = dc.to_crs(dc.estimate_utm_crs())"
   ]
  },
  {
   "cell_type": "markdown",
   "metadata": {},
   "source": [
    "keep only tracts in the dataframe in our flow graph (origins), then get distance between observations with no decay"
   ]
  },
  {
   "cell_type": "code",
   "execution_count": null,
   "metadata": {},
   "outputs": [],
   "source": [
    "dc = dc[dc.index.isin(dc_flow_graph.unique_ids)]\n",
    "dc_dist = Graph.build_distance_band(\n",
    "    dc.set_geometry(dc.centroid), threshold=1e20, binary=False, alpha=1\n",
    ")"
   ]
  },
  {
   "cell_type": "code",
   "execution_count": null,
   "metadata": {},
   "outputs": [],
   "source": [
    "dc_dist.summary()"
   ]
  },
  {
   "cell_type": "code",
   "execution_count": null,
   "metadata": {},
   "outputs": [],
   "source": [
    "dc_dist.adjacency"
   ]
  },
  {
   "cell_type": "code",
   "execution_count": null,
   "metadata": {},
   "outputs": [],
   "source": [
    "# subset the distance graph by the travel graph (remove destinations we dont need)\n",
    "# but this resets weights to 1\n",
    "dc_dist_adj = dc_dist.intersection(dc_flow_graph).adjacency"
   ]
  },
  {
   "cell_type": "code",
   "execution_count": null,
   "metadata": {},
   "outputs": [],
   "source": [
    "# update with the old values\n",
    "dc_dist_adj.update(dc_dist.adjacency)"
   ]
  },
  {
   "cell_type": "code",
   "execution_count": null,
   "metadata": {},
   "outputs": [],
   "source": [
    "dc_interaction[\"distance\"] = dc_dist.sparse.toarray().reshape(-1)"
   ]
  },
  {
   "cell_type": "code",
   "execution_count": null,
   "metadata": {},
   "outputs": [],
   "source": [
    "dc_interaction['weight'] = dc_interaction['weight'].astype(int)"
   ]
  },
  {
   "cell_type": "markdown",
   "metadata": {},
   "source": [
    "finally, we'll do some simple cleanup since we have missing values etc. "
   ]
  },
  {
   "cell_type": "code",
   "execution_count": null,
   "metadata": {},
   "outputs": [],
   "source": [
    "# mean-impute missing values\n",
    "dc_interaction = dc_interaction.fillna(dc_interaction.mean(numeric_only=True))\n",
    "\n",
    "# increment cols by 1 to make logs easier\n",
    "dc_interaction['distance'] = dc_interaction['distance'] +1\n",
    "\n",
    "dc_interaction['n_total_pop_origin'] = dc_interaction['n_total_pop_origin'] +1\n",
    "dc_interaction['n_total__pop_destination'] = dc_interaction['n_total_pop_destination'] +1\n",
    "\n",
    "dc_interaction['p_nonhisp_black_persons_origin'] = dc_interaction['p_nonhisp_black_persons_origin'] +1\n",
    "dc_interaction['p_nonhisp_black_persons_destination'] = dc_interaction['p_nonhisp_black_persons_destination'] +1\n",
    "\n",
    "dc_interaction = dc_interaction.copy()"
   ]
  },
  {
   "cell_type": "code",
   "execution_count": null,
   "metadata": {},
   "outputs": [],
   "source": [
    "dc_interaction"
   ]
  },
  {
   "cell_type": "markdown",
   "metadata": {},
   "source": [
    "## Using `spint` and `statsmodels`\n",
    "\n",
    "The `spint` package implements a family of SI models in the\n",
    "@wilson1967StatisticalTheory via a generalized linear modeling framework with a\n",
    "Poisson link function, which is generally viewed as a statistically-sound\n",
    "approach\n",
    "[@liao2025DataDrivenApproach; @oshan2016PrimerWorking; @oshan2021SpatialStructure; @oshan2025GeneralizedAdditive; @rey2021PySALEcosystem].\n",
    "See @oshan2016PrimerWorking for a deeper discussion of spatial interaction\n",
    "models and their implementation details in PySAL. You can also fit the same\n",
    "models using `statsmodels` for more verbose output, albeit at a performance\n",
    "cost.\n",
    "\n",
    "In thie example, we explore the influences of population size, income, and race\n",
    "(at origin and destination locations) on the total flow moving between origin\n",
    "and destination. Though this is a toy example, this approach combines\n",
    "traditional interaction variables i.e. gravity driven by population size) with\n",
    "an inquiry about social inequality. Since D.C. is such a famously segregated\n",
    "city, it may be that predominantly Black neighbrhoods are greater exporters than\n",
    "importers, like the spatial mismatch hypothesis suggests\n",
    "[@glaeser2004OpportunitiesRace; @kain1968HousingSegregation; @kain1992SpatialMismatch].\n",
    "\n",
    "### Gravity"
   ]
  },
  {
   "cell_type": "code",
   "execution_count": null,
   "metadata": {},
   "outputs": [],
   "source": [
    "g = Gravity(\n",
    "    dc_interaction[\"weight\"].values,\n",
    "    o_vars=dc_interaction[[\"n_total_pop_origin\", \"median_household_income_origin\", \"p_nonhisp_black_persons_origin\"]].values,\n",
    "    d_vars=dc_interaction[\n",
    "        [\"n_total_pop_destination\", \"median_household_income_destination\",  \"p_nonhisp_black_persons_destination\"]\n",
    "    ]\n",
    "    .values,\n",
    "    cost=dc_interaction[\"distance\"],\n",
    "    cost_func=\"exp\",\n",
    "    constant=True,\n",
    ").fit()"
   ]
  },
  {
   "cell_type": "code",
   "execution_count": null,
   "metadata": {},
   "outputs": [],
   "source": [
    "g.params"
   ]
  },
  {
   "cell_type": "code",
   "execution_count": null,
   "metadata": {},
   "outputs": [],
   "source": [
    "g.adj_pseudoR2"
   ]
  },
  {
   "cell_type": "code",
   "execution_count": null,
   "metadata": {},
   "outputs": [],
   "source": [
    "dc_interaction[\"distance\"]"
   ]
  },
  {
   "cell_type": "code",
   "execution_count": null,
   "metadata": {},
   "outputs": [],
   "source": [
    "g_statsmodels = smf.glm(\n",
    "    \"weight ~ 1 + np.log(n_total_pop_origin) + np.log(median_household_income_origin) + np.log(p_nonhisp_black_persons_origin) + np.log(n_total_pop_destination) + np.log(median_household_income_destination) + np.log(p_nonhisp_black_persons_destination) + distance\",\n",
    "    family=families.Poisson(),\n",
    "    data=dc_interaction,).fit(cov_type='HC0', scale='X2')"
   ]
  },
  {
   "cell_type": "code",
   "execution_count": null,
   "metadata": {},
   "outputs": [],
   "source": [
    "g_statsmodels.summary()"
   ]
  },
  {
   "cell_type": "code",
   "execution_count": null,
   "metadata": {},
   "outputs": [],
   "source": [
    "g.params.round(4)"
   ]
  },
  {
   "cell_type": "code",
   "execution_count": null,
   "metadata": {},
   "outputs": [],
   "source": [
    "out = g_statsmodels.params.rename(\"statsmdodels\").to_frame().copy()\n",
    "out[\"spint\"] = g.params.T.round(4)"
   ]
  },
  {
   "cell_type": "markdown",
   "metadata": {},
   "source": [
    "compare coefs in a table format"
   ]
  },
  {
   "cell_type": "code",
   "execution_count": null,
   "metadata": {},
   "outputs": [],
   "source": [
    "out"
   ]
  },
  {
   "cell_type": "markdown",
   "metadata": {},
   "source": [
    "### Production-Constrained\n",
    "\n",
    "unit-level fixed effects for origins"
   ]
  },
  {
   "cell_type": "code",
   "execution_count": null,
   "metadata": {},
   "outputs": [],
   "source": [
    "mod_prod = Production(\n",
    "    dc_interaction[\"weight\"].values,\n",
    "    dc_interaction[\"focal\"].values,\n",
    "    d_vars=dc_interaction[\n",
    "        [\"n_total_pop_destination\", \"median_household_income_destination\", \"p_nonhisp_black_persons_destination\"]\n",
    "    ]\n",
    "    .values,\n",
    "    cost=dc_interaction[\"distance\"].values,\n",
    "    cost_func=\"exp\",\n",
    ").fit()"
   ]
  },
  {
   "cell_type": "code",
   "execution_count": null,
   "metadata": {},
   "outputs": [],
   "source": [
    "mod_prod.params[-4:]"
   ]
  },
  {
   "cell_type": "code",
   "execution_count": null,
   "metadata": {},
   "outputs": [],
   "source": [
    "mod_prod.adj_pseudoR2"
   ]
  },
  {
   "cell_type": "markdown",
   "metadata": {},
   "source": [
    "also do the power version/"
   ]
  },
  {
   "cell_type": "code",
   "execution_count": null,
   "metadata": {},
   "outputs": [],
   "source": [
    "mod_prod_pow = Production(\n",
    "    dc_interaction[\"weight\"].values,\n",
    "    dc_interaction[\"focal\"].values,\n",
    "    d_vars=dc_interaction[\n",
    "        [\"n_total_pop_destination\", \"median_household_income_destination\", \"p_nonhisp_black_persons_destination\"]\n",
    "    ]\n",
    "    .values,\n",
    "    cost=dc_interaction[\"distance\"].values,\n",
    "    cost_func=\"pow\",\n",
    ").fit()"
   ]
  },
  {
   "cell_type": "code",
   "execution_count": null,
   "metadata": {},
   "outputs": [],
   "source": [
    "mod_prod_pow.params[-4:]"
   ]
  },
  {
   "cell_type": "code",
   "execution_count": null,
   "metadata": {},
   "outputs": [],
   "source": [
    "mod_prod_pow.adj_pseudoR2"
   ]
  },
  {
   "cell_type": "markdown",
   "metadata": {},
   "source": [
    "### Attraction-Constrained\n",
    "\n",
    "unit-level fixed effects for destinations"
   ]
  },
  {
   "cell_type": "code",
   "execution_count": null,
   "metadata": {},
   "outputs": [],
   "source": [
    "mod_attr = Attraction(\n",
    "    flows=dc_interaction[\"weight\"].values,\n",
    "    destinations=dc_interaction[\"neighbor\"].values,\n",
    "    o_vars=dc_interaction[[\"n_total_pop_origin\", \"median_household_income_origin\",  \"p_nonhisp_black_persons_origin\"]]\n",
    "    .values,\n",
    "    cost=dc_interaction[\"distance\"].values,\n",
    "    cost_func=\"exp\",\n",
    ")"
   ]
  },
  {
   "cell_type": "markdown",
   "metadata": {},
   "source": [
    "the constrained models can be calibrated *locally*, i.e. each observation has its own set of coefficients, thus we can map the effect of a given parameter, say distance:"
   ]
  },
  {
   "cell_type": "code",
   "execution_count": null,
   "metadata": {},
   "outputs": [],
   "source": [
    "attr_local = pd.DataFrame(mod_attr.local())"
   ]
  },
  {
   "cell_type": "code",
   "execution_count": null,
   "metadata": {},
   "outputs": [],
   "source": [
    "attr_local.columns"
   ]
  },
  {
   "cell_type": "code",
   "execution_count": null,
   "metadata": {},
   "outputs": [],
   "source": [
    "dc.assign(dist=attr_local['param3'].values).explore('dist', scheme='quantiles', tooltip='dist',  cmap='RdBu_r',   style_kwds={\"weight\": 0.5},\n",
    " tiles='cartodb positron')"
   ]
  },
  {
   "cell_type": "code",
   "execution_count": null,
   "metadata": {},
   "outputs": [],
   "source": [
    "mod_attr.fit()"
   ]
  },
  {
   "cell_type": "code",
   "execution_count": null,
   "metadata": {},
   "outputs": [],
   "source": [
    "mod_attr.params[-4:]"
   ]
  },
  {
   "cell_type": "code",
   "execution_count": null,
   "metadata": {},
   "outputs": [],
   "source": [
    "mod_attr.pseudoR2"
   ]
  },
  {
   "cell_type": "code",
   "execution_count": null,
   "metadata": {},
   "outputs": [],
   "source": [
    "# attraction-constrained\n",
    "a_statsmodels = smf.glm(\n",
    "    \"weight ~ 1 + I(neighbor) + np.log(n_total_pop_origin) + np.log(median_household_income_origin) + np.log(p_nonhisp_black_persons_origin) + distance\",\n",
    "    family=families.Poisson(),\n",
    "    data=dc_interaction\n",
    ").fit()"
   ]
  },
  {
   "cell_type": "code",
   "execution_count": null,
   "metadata": {
    "scrolled": true
   },
   "outputs": [],
   "source": [
    "a_statsmodels.summary()"
   ]
  },
  {
   "cell_type": "code",
   "execution_count": null,
   "metadata": {},
   "outputs": [],
   "source": [
    "mod_attr.pseudoR2"
   ]
  },
  {
   "cell_type": "code",
   "execution_count": null,
   "metadata": {},
   "outputs": [],
   "source": [
    "mod_attr.params[-4:].round(4)"
   ]
  },
  {
   "cell_type": "code",
   "execution_count": null,
   "metadata": {},
   "outputs": [],
   "source": [
    "a_statsmodels.params[-4:]"
   ]
  },
  {
   "cell_type": "code",
   "execution_count": null,
   "metadata": {},
   "outputs": [],
   "source": [
    "# mcfadden\n",
    "1 - (a_statsmodels.llf / a_statsmodels.llnull)"
   ]
  },
  {
   "cell_type": "code",
   "execution_count": null,
   "metadata": {},
   "outputs": [],
   "source": [
    "# cohen\n",
    "(a_statsmodels.null_deviance - a_statsmodels.deviance) / a_statsmodels.null_deviance"
   ]
  },
  {
   "cell_type": "code",
   "execution_count": null,
   "metadata": {},
   "outputs": [],
   "source": [
    "# CS\n",
    "1 - np.exp((2 / a_statsmodels.nobs) * (a_statsmodels.llnull - a_statsmodels.llf))"
   ]
  },
  {
   "cell_type": "code",
   "execution_count": null,
   "metadata": {},
   "outputs": [],
   "source": [
    "a_statsmodels.pseudo_rsquared()"
   ]
  },
  {
   "cell_type": "markdown",
   "metadata": {},
   "source": [
    "yep, the CS psueudo $R^2$ matches the reported one\n",
    "\n",
    "### Doubly-Constrained\n",
    "\n",
    "fixed effects for both origin and destination"
   ]
  },
  {
   "cell_type": "code",
   "execution_count": null,
   "metadata": {},
   "outputs": [],
   "source": [
    "d = Doubly(\n",
    "    dc_interaction[\"weight\"].values,\n",
    "    dc_interaction[\"focal\"].values,\n",
    "    dc_interaction[\"neighbor\"].values,\n",
    "    cost=dc_interaction[\"distance\"],\n",
    "    cost_func=\"exp\",\n",
    ").fit()"
   ]
  },
  {
   "cell_type": "code",
   "execution_count": null,
   "metadata": {},
   "outputs": [],
   "source": [
    "d.adj_pseudoR2"
   ]
  },
  {
   "cell_type": "code",
   "execution_count": null,
   "metadata": {},
   "outputs": [],
   "source": [
    "d.params[-1:].round(5)"
   ]
  },
  {
   "cell_type": "code",
   "execution_count": null,
   "metadata": {},
   "outputs": [],
   "source": [
    "d_statsmodels = smf.glm(\n",
    "    \"weight ~ 1 + C(focal) + C(neighbor) + distance\",\n",
    "    family=families.Poisson(),\n",
    "    data=dc_interaction\n",
    ").fit()"
   ]
  },
  {
   "cell_type": "code",
   "execution_count": null,
   "metadata": {
    "scrolled": true
   },
   "outputs": [],
   "source": [
    "d_statsmodels.summary()"
   ]
  },
  {
   "cell_type": "code",
   "execution_count": null,
   "metadata": {},
   "outputs": [],
   "source": [
    "d.params[-1:]"
   ]
  },
  {
   "cell_type": "code",
   "execution_count": null,
   "metadata": {},
   "outputs": [],
   "source": [
    "d_statsmodels.params[-1]"
   ]
  }
 ],
 "metadata": {
  "kernelspec": {
   "display_name": "Python [conda env:nersa25]",
   "language": "python",
   "name": "conda-env-nersa25-py"
  },
  "language_info": {
   "codemirror_mode": {
    "name": "ipython",
    "version": 3
   },
   "file_extension": ".py",
   "mimetype": "text/x-python",
   "name": "python",
   "nbconvert_exporter": "python",
   "pygments_lexer": "ipython3",
   "version": "3.12.11"
  }
 },
 "nbformat": 4,
 "nbformat_minor": 4
}
